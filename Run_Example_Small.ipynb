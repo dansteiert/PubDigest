{
 "cells": [
  {
   "cell_type": "markdown",
   "metadata": {
    "jupyter": {
     "outputs_hidden": false
    }
   },
   "source": [
    "# PubDigest Run Example"
   ]
  },
  {
   "cell_type": "markdown",
   "metadata": {
    "jupyter": {
     "outputs_hidden": false
    }
   },
   "source": [
    "## Installation"
   ]
  },
  {
   "cell_type": "markdown",
   "metadata": {
    "jupyter": {
     "outputs_hidden": false
    }
   },
   "source": [
    "### Setup Environment\n",
    "git clone https://github.com/dansteiert/PubDigest.git\n",
    "cd PubDigest\n",
    "conda env create -f environment.yml"
   ]
  },
  {
   "cell_type": "markdown",
   "metadata": {
    "jupyter": {
     "outputs_hidden": false
    }
   },
   "source": [
    "## Imports"
   ]
  },
  {
   "cell_type": "code",
   "execution_count": null,
   "metadata": {
    "collapsed": false,
    "jupyter": {
     "outputs_hidden": false
    },
    "pycharm": {
     "is_executing": true
    }
   },
   "outputs": [],
   "source": [
    "import os\n",
    "import yaml\n",
    "from IPython.display import Image\n",
    "\n",
    "\n",
    "from misc.get_base_data import get_base_data\n",
    "from main import main\n"
   ]
  },
  {
   "cell_type": "markdown",
   "metadata": {
    "jp-MarkdownHeadingCollapsed": true,
    "jupyter": {
     "outputs_hidden": false
    },
    "tags": []
   },
   "source": [
    "### Get Data\n"
   ]
  },
  {
   "cell_type": "code",
   "execution_count": null,
   "metadata": {
    "collapsed": false,
    "jupyter": {
     "outputs_hidden": false
    }
   },
   "outputs": [],
   "source": [
    "get_base_data()"
   ]
  },
  {
   "cell_type": "markdown",
   "metadata": {
    "jupyter": {
     "outputs_hidden": false
    }
   },
   "source": [
    "#### If the previous line produced an error:\n",
    "This is done by script - in case it fails, here the instruction via the respective webseites:\n",
    "USAN Stems for Drug Term Definition\n",
    "From https://www.ama-assn.org/about/united-states-adopted-names/united-states-adopted-names-approved-stems\n",
    "Download \"list of USAN stems\"\n",
    "  - Hyperlink at 18.06.2024: https://www.ama-assn.org/system/files/stem-list-cumulative.xlsx )\n",
    "  - Save it to ./base_data/USAN_Stems.xlsx\n",
    "  - call: from misc.prep_USAN_stem import prep_usan\n",
    "  - prep_usan()\n",
    "\n",
    "\n",
    "Country, City, and Locations file (csv) from: https://simplemaps.com/data/world-cities\n",
    " - Basic Database\n",
    " - Hyperlink at 18.06.2024: https://simplemaps.com/static/data/world-cities/basic/simplemaps_worldcities_basicv1.77.zip\n",
    " - Unzip file and move the csv to ./base_data/worldcities.csv"
   ]
  },
  {
   "cell_type": "markdown",
   "metadata": {
    "jupyter": {
     "outputs_hidden": false
    },
    "tags": []
   },
   "source": [
    "## Setup Config"
   ]
  },
  {
   "cell_type": "markdown",
   "metadata": {
    "jupyter": {
     "outputs_hidden": false
    }
   },
   "source": [
    "### Mandatory Config\n",
    "These must be set to desired output!\n",
    "the following config sections allow you to tweak the program to your desires"
   ]
  },
  {
   "cell_type": "code",
   "execution_count": null,
   "metadata": {
    "collapsed": false,
    "jupyter": {
     "outputs_hidden": false
    }
   },
   "outputs": [],
   "source": [
    "system_config_processors = 6 # on a PC should be at least MaxCPU - 1, else it will take space from the OS\n",
    "\n",
    "\n",
    "# email should be the e-mail address of the maintainer of the tool, and should be a valid e-mail address\n",
    "pmc_config_email = \"YourEmail@MailServer.XYZ\"\n",
    "\n",
    "query_config_query_phrase = \"Chronic thromboembolic pulmonary hypertension\" # used for PubMed Query\n",
    "query_config_query_phrase_abb = \"CTEPH\" # used for PubMed Query\n",
    "\n",
    "\n",
    "# empty list to omit this task or a list of alternate_query_terms/ Associated Diseases\n",
    "query_config_associated_diseases = [\"Pulmonary alveolar proteinosis\",\n",
    "                                    # None,\n",
    "]\n",
    "# Match Order in associated_disease list\n",
    "query_config_associated_diseases_abb = [\"PAP\",\n",
    "                                        # None,\n",
    "                                        ]\n",
    "\n",
    "config_name_suffix = f\"{query_config_query_phrase_abb}_Short_Example\"\n"
   ]
  },
  {
   "cell_type": "markdown",
   "metadata": {
    "jp-MarkdownHeadingCollapsed": true,
    "jupyter": {
     "outputs_hidden": false
    },
    "tags": []
   },
   "source": [
    "### Secondary Config"
   ]
  },
  {
   "cell_type": "markdown",
   "metadata": {
    "jupyter": {
     "outputs_hidden": false
    },
    "tags": []
   },
   "source": [
    "#### Query Config"
   ]
  },
  {
   "cell_type": "code",
   "execution_count": null,
   "metadata": {
    "collapsed": false,
    "jupyter": {
     "outputs_hidden": false
    }
   },
   "outputs": [],
   "source": [
    "query_config = {\n",
    "    \"base_query_term\": query_config_query_phrase,\n",
    "\n",
    "    \"base_query_abb\": query_config_query_phrase_abb, # Is used as additional term in the query\n",
    "    \"base_query_parameters\": # Parameters to be passed on to PubMed\n",
    "        {\"Language\": \"english\"},\n",
    "\n",
    "    \"alternate_query_terms\": query_config_associated_diseases,\n",
    "    # empty list to omit this task or a list of alternate_query_terms/ Associated Diseases\n",
    "\n",
    "\n",
    "\n",
    "    \"alternate_query_abb\":  query_config_associated_diseases_abb,\n",
    "    # This needs to match the order of the alternate query terms!\n",
    "    # add - None to match terms for which you do not want to give a abbreviation\n",
    "\n",
    "    \"alternate_query_parameters\": {\"Language\": \"english\"},\n",
    "\n",
    "    # Timeinterval definition: # Important for Publications_by_Year_Intervals.png\n",
    "    # \"Fixed\" Timeintervals 1, 2, 2, 4, 4, 8, 8, 16, 16, ...\n",
    "    \"starting_counter\": 0,\n",
    "    \"starting_interval_size\": 4,\n",
    "\n",
    "    # Predefined publication list\n",
    "    # This can be used to supply a file ofpubmed ids to be used instead of the query_phrase\n",
    "    \"query_ids_given\": False,\n",
    "    \"query_ids_file_path\": None,\n",
    "    \"query_ids_file_sep\": \",\",\n",
    "    \"query_ids_file_id_col\": \"PMID\",\n",
    "\n",
    "    \"max_days_since_last_crawl\": 360,  # update your database if the last update is in x days in the past\n",
    "\n",
    "    # Term Prediction:\n",
    "    \"similar_terms_to_query\": 40,  # How many terms to predict\n",
    "    \"prediction_year\": 2018,  # From which year on to predict (retrospectively)\n",
    "    \"prediction_term\": \"CTEPH\",  # The Term around which you want to predict (within the Embedding) - should appear in the text as a single word (no spaces or other delimiters).\n",
    "    \"terms_to_keep_in_embedding\": [],  # Terms which might be filtered out due to special terms, but should still be included.\n",
    "\n",
    "    # Disease Name Identifcation\n",
    "    \"minimum_naming\": 5,  # remove all disease erms which have lower counts than this\n",
    "    \"top_x_1_gram_disease_names\": 10,  # Plot the top disease terms\n",
    "\n",
    "\n",
    "    # Entere here to query for specific terms such as done for the publication Fig 4\n",
    "    \"terms_for_embedding_evaluation\": [\n",
    "        # Top Indications\n",
    "        [\"riociguat\", \"bosentan\", \"sildenafil\", \"iloprost\", \"rivaroxaban\", \"macitentan\"],\n",
    "\n",
    "        # Pro-Thrombotic\n",
    "        [\n",
    "            # from previously compiled list\n",
    "            \"caplacizumab\", \"benzarone\", \"enalaprilat\", \"trental\", \"mechlorethamine\",\n",
    "            \"androgel\",\n",
    "\n",
    "            # https://www.drugs.com/drug-class/thrombolytics.html#\n",
    "            \"streptodornase\", \"vorapaxar\", \"abciximab\", \"eptifibatide\", \"tirofiban\",\n",
    "            \"streptokinase\",\n",
    "            \"alteplase\", \"tenecteplase\", \"reteplase\", \"urokinase\", \"streptase\", \"kinlytic\",\n",
    "            #\"abbokinase\",\n",
    "\n",
    "            # https://www.drugs.com/drug-class/thrombin-inhibitors.html\n",
    "            \"dabigatran\", \"bivalirudin\", \"desirudin\",\n",
    "\n",
    "            # https://www.drugs.com/drug-class/heparins.html\n",
    "            \"enoxaparin\", \"delteparin\", \"tinzaparin\", \" danaparoid\",\n",
    "\n",
    "            # https://www.drugs.com/drug-class/factor-xa-inhibitors.html\n",
    "            \"apixaban\", \"fondaparinux\", \"rivaroxaban\", \"edoxaban\", \"betrixaban\",\n",
    "\n",
    "            # https://www.drugs.com/drug-class/coumarins-and-indandiones.html\n",
    "            \"warfarin\",\n",
    "\n",
    "            # https://www.drugs.com/drug-class/antiplatelet-agents.html\n",
    "            \"aspirin\", \"cangrelor\", \"cilostazol\", \"clopidogrel\", \"dipyridamole\", \"prasugrel\",\n",
    "            \"ticlopidine\", \"ticagrelo\"],\n",
    "\n",
    "        # Anti Thrombose\n",
    "        [\n",
    "            # from a compiled list\n",
    "            \"carfilzomib\", \"etanercept\", \"olmesartan\", \"olanzapine\", \"ponatinib\", \"levaminsol\",\n",
    "\n",
    "            # https://link.springer.com/article/10.1007/s40264-013-0054-6/tables/1\n",
    "            \"ciclosporin\", \"5-FU\", \"bleomycin\", \"busulfan\", \"cis-platinum\", \"doxorubicin\",\n",
    "            \"gemtuzumab\", \"asparainase\", \"l-asparainase\", \"mitomycin\", \"paclitaxel\",\n",
    "            \"tamoxifen\",\n",
    "            \"thalidomide\", \"bevacizumab\", \"rofecoxib\", \"ephedra\", \"erythropoietin\", \"heparin\",\n",
    "            \"ciclosporin\", \"glucocoricoids\", \"dexamethasone\", \"sirolimus\", \"interferon\",\n",
    "            \"interferon-alpha\",\n",
    "            \"metformin\", \"quinine\", \"escitalopram\", \"sildenafil\", \"ticlopidin\", \"clopidogrel\",\n",
    "            \"tranexamic\"\n",
    "        ]]\n",
    "}\n",
    "with open(os.path.join(os.getcwd(), \"Configurations\",  \"Query\", f\"config_{config_name_suffix}.yml\"), \"w\") as f:\n",
    "    yaml.dump(query_config, f)"
   ]
  },
  {
   "cell_type": "markdown",
   "metadata": {
    "jupyter": {
     "outputs_hidden": false
    },
    "tags": []
   },
   "source": [
    "#### Natural Language Processing (NLP) Config"
   ]
  },
  {
   "cell_type": "code",
   "execution_count": null,
   "metadata": {
    "collapsed": false,
    "jupyter": {
     "outputs_hidden": false
    }
   },
   "outputs": [],
   "source": [
    "nlp_config = {\n",
    "\n",
    "\n",
    "    \"n_gram_list\": [1], # [1, 3, 5],\n",
    "\n",
    "    # Frequent words which usually hold no proper meaning - extend if additional words are of no interest (should just be used for filling terms)\n",
    "    \"words_to_remove\": [\"have\", \"be\", \"use\", \"may\", \"not\", \"II\", \"III\", \"IV\", \"VI\", \"VII\", \"VIII\"],\n",
    "\n",
    "    # Currently only avg implemented\n",
    "    \"tfidf_filter_criterion\": \"avg\",\n",
    "\n",
    "    # Filter Medical terms (Clinical Features) by specific suffixes (medicalterms_to_ignore_suffix) or full terms (medicalterms_to_ignore)\n",
    "    \"filter_medical_terms\": True,\n",
    "    \"medicalterms_to_ignore_suffix\": [\"ase\", \"pathy\", \"thoracic\", \"graphy\", \"pathic\"],\n",
    "    \"medicalterms_to_ignore\": [\"april\"],\n",
    "\n",
    "    # Filter disease terms by terms which do not reflect diseases\n",
    "    \"disease_terms_to_ignore\": [\"diagnosis\", \"prognosis\", \"misdiagnosis\", \"analysis\", \"basis\",\n",
    "                              \"meta-analysis\", \"ontology\", \"doagra\", \"angiogram\", \"hypothesis\", \"program\", \"synthesis\",\n",
    "                              \"poor-prognosis\"],\n",
    "\n",
    "\n",
    "    # Embedding options:\n",
    "    # Method\n",
    "    \"skip_gram_CBOW\": \"CBOW\",  # CBOW or skip-gram\n",
    "    #  From which year on out, models should be build\n",
    "    \"min_year\": 2021,\n",
    "        # Interval at which years are build starting at current year, e.g. 3 builds intervals like 2021, 2018, 2015, ...\n",
    "    \"year_interval\": 1,\n",
    "\n",
    "    # Currently not used\n",
    "    # \"update_w2v_model\": False,\n",
    "\n",
    "    # Dictionary of terms to be passed to the function gensim.models.word2vec.Word2Vec (https://radimrehurek.com/gensim/models/word2vec.html#gensim.models.word2vec.Word2Vec)\n",
    "    # already set are: sentences, workers (via System config - processors), sg (via skip_gram_CBOW)\n",
    "    \"word2vec\": {\"min_count\": 5},\n",
    "\n",
    "# Text Summary: to write out a text summary file (./data/QUERY_TERM/Text Summary/summary{_}.txt)\n",
    "\"summary_top_x_terms\": 20, # Get the top X terms in a research area\n",
    "\"summary_top_x_authors\": 20, # Get the top X published authors\n",
    "\"summary_top_x_publications\": 20 # Get the top X cited publications\n",
    "}\n",
    "\n",
    "with open(os.path.join(os.getcwd(), \"Configurations\",  \"NLP\", f\"config_{config_name_suffix}.yml\"), \"w\") as f:\n",
    "    yaml.dump(nlp_config, f)"
   ]
  },
  {
   "cell_type": "markdown",
   "metadata": {
    "jp-MarkdownHeadingCollapsed": true,
    "jupyter": {
     "outputs_hidden": false
    },
    "tags": []
   },
   "source": [
    "#### PubMedCentral (PMC) config"
   ]
  },
  {
   "cell_type": "code",
   "execution_count": null,
   "metadata": {
    "collapsed": false,
    "jupyter": {
     "outputs_hidden": false
    }
   },
   "outputs": [],
   "source": [
    "pmc_config = {\n",
    "    \"tool_name\": \"PubDigest\", # PubMed Central kindly requests, to identify services\n",
    "\"email\": pmc_config_email, # email should be the e-mail address of the maintainer of the tool, and should be a valid e-mail address\n",
    "\n",
    "# Options to pass to pymed function -> https://github.com/dansteiert/pymed fork from https://github.com/gijswobben/pymed\n",
    "\"pymed\": {\n",
    "  \"max_results\": 100000000,\n",
    "  \"batch_size\": 250,\n",
    "  \"timeout\": 100,\n",
    "},\n",
    "\n",
    "# Options to query iCite website https://icite.od.nih.gov/\n",
    "\"iCite\": {\n",
    "  \"fields_to_return\": None,\n",
    "  \"chunck_size\": 250, #  do not increase too high -> results in issues with iCite API!\n",
    "},\n",
    "\n",
    "# How Many months should pass before the citations are updated\n",
    "\"iCite_update_in_months\": 6}\n",
    "with open(os.path.join(os.getcwd(), \"Configurations\",  \"PMC\", f\"config_{config_name_suffix}.yml\"), \"w\") as f:\n",
    "    yaml.dump(pmc_config, f)"
   ]
  },
  {
   "cell_type": "markdown",
   "metadata": {
    "jupyter": {
     "outputs_hidden": false
    }
   },
   "source": [
    "#### System Settings"
   ]
  },
  {
   "cell_type": "code",
   "execution_count": null,
   "metadata": {
    "collapsed": false,
    "jupyter": {
     "outputs_hidden": false
    }
   },
   "outputs": [],
   "source": [
    "system_config = {  # System setup\n",
    "    \"working_dir\": None,  # if None, the current working directory is used\n",
    "\n",
    "    \"processors\": system_config_processors,  #  leave a processor free for OS if running on a PC!\n",
    "    \"dataset_compile_batch_size\": 10000,\n",
    "\n",
    "\n",
    "    \"logging\": {\n",
    "        \"logger_name\": \"PubDigest\",\n",
    "        \"format\": '[%(levelname)s] [%(asctime)s] (%(filename)s:%(lineno)d) - %(message)s',\n",
    "        \"filename\": os.path.join(os.getcwd(), \"data\", query_config_query_phrase, f\"log_file_{config_name_suffix}.log\"),\n",
    "        \"level\": \"INFO\"},\n",
    "\n",
    "    # Log to the consol as well as to a file, specified above\n",
    "    \"logging_console\": True\n",
    "}\n",
    "with open(os.path.join(os.getcwd(), \"Configurations\",  \"System\", f\"config_{config_name_suffix}.yml\"), \"w\") as f:\n",
    "    yaml.dump(system_config, f)"
   ]
  },
  {
   "cell_type": "markdown",
   "metadata": {
    "jupyter": {
     "outputs_hidden": false
    }
   },
   "source": [
    "#### Visualization Config"
   ]
  },
  {
   "cell_type": "code",
   "execution_count": null,
   "metadata": {
    "collapsed": false,
    "jupyter": {
     "outputs_hidden": false
    }
   },
   "outputs": [],
   "source": [
    "visualization_config = {\n",
    "    # Plotting options\n",
    "    \"categorial_colorfull_colors\": [\"#4daf4a\", \"#e41a1c\", \"#377eb8\", \"#984ea3\", \"#ff7f00\", \"#a65628\", \"#ffff33\",\n",
    "                                  \"#f781bf\", \"#999999\"],\n",
    "    \"categorial_colors_monochrom\": [\"#FFFFFF\", \"#808080\", \"#000000\"],\n",
    "    # diverging_colors: \"Spectral\"\n",
    "    \"diverging_colors\": \"coolwarm\",\n",
    "    \"single_color\": \"#0d0c8f\",  # - blue\n",
    "    # \"single_color\": \"#00b300\", #- green\n",
    "    # \"single_color\": \"#808080\", #- grey\n",
    "    \"single_color_prominent\": \"#000000\",  # - black\n",
    "    \"alternating_background_colors\": [\"#000000\", \"#808000\"],\n",
    "\n",
    "    \"with_title\": False}\n",
    "with open(os.path.join(os.getcwd(), \"Configurations\",  \"Visualisations\", f\"config_{config_name_suffix}.yml\"), \"w\") as f:\n",
    "    yaml.dump(visualization_config, f)"
   ]
  },
  {
   "cell_type": "markdown",
   "metadata": {
    "jupyter": {
     "outputs_hidden": false
    }
   },
   "source": [
    "#### Workflow Config"
   ]
  },
  {
   "cell_type": "code",
   "execution_count": null,
   "metadata": {
    "collapsed": false,
    "jupyter": {
     "outputs_hidden": false
    }
   },
   "outputs": [],
   "source": [
    "workflow_config = {  # Define program steps:\n",
    "    # Data Processing\n",
    "    \"update_dataset\": False,  # re-crawl PubMed\n",
    "    \"sanitise_missing_publications\": False,  # process data/get into processable format\n",
    "    \"affiliation_search\": True,  # Map affiliations to our dataset\n",
    "    \"update_citations\": False,  # query iCite for new data\n",
    "    \"skip_build_dataset\": True,  # only applicable if a dataset already exists\n",
    "    \"additional_publications_dataset_rebuild_threshold\": 1000,\n",
    "    \"process_by_timeinterval\": True,\n",
    "\n",
    "    # Extra Tasks\n",
    "    \"gen_abb_dict\": True,  # Generate dictionary of abbreviations\n",
    "    \"gen_text_summary\": True,  # Generate short summaries\n",
    "\n",
    "    # Plotting\n",
    "    \"gen_plots\": True,  # Plot all available data\n",
    "    \"keyword_plotting\": True,  # Plot key words by timeinterval\n",
    "\n",
    "    # Embedding\n",
    "    \"train_w2v_model\": True,\n",
    "    \"train_joined_embeddings\": True,\n",
    "    \"predict_transferable_terms\": True\n",
    "}\n",
    "with open(os.path.join(os.getcwd(), \"Configurations\",  \"Workflow\", f\"config_{config_name_suffix}.yml\"), \"w\") as f:\n",
    "    yaml.dump(workflow_config, f)"
   ]
  },
  {
   "cell_type": "markdown",
   "metadata": {
    "jupyter": {
     "outputs_hidden": false
    }
   },
   "source": [
    "#### Debug Config & Locations Config & Supporting Information\n",
    "Debug Config: printing option for missed affiliations\n",
    "Locations Config: Some name conversions (can be extended if necessary)\n",
    "\n",
    "\n",
    "If these other versions of these configs these need to be adapted in the main_config\n"
   ]
  },
  {
   "cell_type": "markdown",
   "metadata": {
    "jupyter": {
     "outputs_hidden": false
    }
   },
   "source": [
    "#### Main Config"
   ]
  },
  {
   "cell_type": "code",
   "execution_count": null,
   "metadata": {
    "collapsed": false,
    "jupyter": {
     "outputs_hidden": false
    }
   },
   "outputs": [],
   "source": [
    "main_config = {\"System\": f\"Configurations/System/config_{config_name_suffix}.yml\",\n",
    "\n",
    "\"Workflow\": f\"Configurations/Workflow/config_{config_name_suffix}.yml\",\n",
    "\"Query\": f\"Configurations/Query/config_{config_name_suffix}.yml\",\n",
    "\n",
    "\"Supporting_info\": f\"Configurations/Supporting Information/config.yml\",\n",
    "\n",
    "\"PMC\": f\"Configurations/PMC/config_{config_name_suffix}.yml\",\n",
    "\n",
    "\"Locations\": f\"Configurations/Locations/config.yml\",\n",
    "\"NLP\": f\"Configurations/NLP/config_{config_name_suffix}.yml\",\n",
    "\n",
    "\"Visualisations\": f\"Configurations/Visualisations/config_{config_name_suffix}.yml\",\n",
    "\n",
    "\n",
    "\"Debug\": f\"Configurations/Debug/config.yml\"}\n",
    "\n",
    "with open(os.path.join(os.getcwd(), \"Configurations\",  \"Config_Main\", f\"config_{config_name_suffix}.yml\"), \"w\") as f:\n",
    "    yaml.dump(main_config, f)"
   ]
  },
  {
   "cell_type": "markdown",
   "metadata": {
    "jp-MarkdownHeadingCollapsed": true,
    "jupyter": {
     "outputs_hidden": false
    },
    "tags": []
   },
   "source": [
    "## Run Example"
   ]
  },
  {
   "cell_type": "code",
   "execution_count": null,
   "metadata": {
    "collapsed": false,
    "jupyter": {
     "outputs_hidden": false
    }
   },
   "outputs": [],
   "source": [
    "main(config_path=os.path.join(os.getcwd(),  \"Configurations\",  \"Config_Main\", f\"config_{config_name_suffix}.yml\"))"
   ]
  },
  {
   "cell_type": "markdown",
   "metadata": {},
   "source": [
    "## Figure 2"
   ]
  },
  {
   "cell_type": "code",
   "execution_count": null,
   "metadata": {},
   "outputs": [],
   "source": [
    "Image(os.path.join(os.getcwd(), \"data\", query_config_query_phrase.lower(), \"Plot\", \"Keywords\", \"1_gram\", \"_med\", \"1_gram_med_wordcloud_full.png\"))"
   ]
  },
  {
   "cell_type": "code",
   "execution_count": null,
   "metadata": {},
   "outputs": [],
   "source": [
    "Image(os.path.join(os.getcwd(), \"data\", query_config_query_phrase.lower(), \"Plot\", \"Keywords\", \"1_gram\", \"_med\", \"tfidf_1_gram_med_filtered_global_sort.png\"))"
   ]
  },
  {
   "cell_type": "markdown",
   "metadata": {},
   "source": [
    "## Figure 3"
   ]
  },
  {
   "cell_type": "code",
   "execution_count": null,
   "metadata": {},
   "outputs": [],
   "source": [
    "Image(os.path.join(os.getcwd(), \"data\", query_config_query_phrase.lower(), \"Plot\", \"Keywords\", \"1_gram\", \"_disease\", \"tfidf_1_gram_disease_filtered_global_sort.png\"))"
   ]
  },
  {
   "cell_type": "code",
   "execution_count": null,
   "metadata": {},
   "outputs": [],
   "source": [
    "Image(os.path.join(os.getcwd(), \"data\", query_config_query_phrase.lower(), \"Plot\", \"Disease_names.png\"))"
   ]
  },
  {
   "cell_type": "markdown",
   "metadata": {},
   "source": [
    "## Figure 4"
   ]
  },
  {
   "cell_type": "code",
   "execution_count": null,
   "metadata": {},
   "outputs": [],
   "source": [
    "if os.path.isfile(os.path.join(os.getcwd(), \"data\", query_config_query_phrase.lower(), \"Plot\", \"Embedding\", f\"specific_term_validation_CBOW_{query_config_query_phrase_abb}_{query_config_associated_diseases[0].lower()}_group_0.png\")): \n",
    "    Image(os.path.join(os.getcwd(), \"data\", query_config_query_phrase.lower(), \"Plot\", \"Embedding\", f\"specific_term_validation_CBOW_{query_config_query_phrase_abb}_{query_config_associated_diseases[0].lower()}_group_0.png\"))\n",
    "else:\n",
    "    print(\"No drugs found in this Group\")"
   ]
  },
  {
   "cell_type": "code",
   "execution_count": null,
   "metadata": {},
   "outputs": [],
   "source": [
    "if os.path.isfile(os.path.join(os.getcwd(), \"data\", query_config_query_phrase.lower(), \"Plot\", \"Embedding\", f\"specific_term_validation_CBOW_{query_config_query_phrase_abb}_{query_config_associated_diseases[0].lower()}_group_1.png\")): \n",
    "    Image(os.path.join(os.getcwd(), \"data\", query_config_query_phrase.lower(), \"Plot\", \"Embedding\", f\"specific_term_validation_CBOW_{query_config_query_phrase_abb}_{query_config_associated_diseases[0].lower()}_group_1.png\"))\n",
    "else:\n",
    "    print(\"No drugs found in this Group\")"
   ]
  },
  {
   "cell_type": "code",
   "execution_count": null,
   "metadata": {
    "tags": []
   },
   "outputs": [],
   "source": [
    "if os.path.isfile(os.path.join(os.getcwd(), \"data\", query_config_query_phrase.lower(), \"Plot\", \"Embedding\", f\"specific_term_validation_CBOW_{query_config_query_phrase_abb}_{query_config_associated_diseases[0].lower()}_group_2.png\")): \n",
    "    Image(os.path.join(os.getcwd(), \"data\", query_config_query_phrase.lower(), \"Plot\", \"Embedding\", f\"specific_term_validation_CBOW_{query_config_query_phrase_abb}_{query_config_associated_diseases[0].lower()}_group_2.png\"))\n",
    "else:\n",
    "    print(\"No drugs found in this Group\")"
   ]
  }
 ],
 "metadata": {
  "kernelspec": {
   "display_name": "Python 3 (ipykernel)",
   "language": "python",
   "name": "python3"
  },
  "language_info": {
   "codemirror_mode": {
    "name": "ipython",
    "version": 3
   },
   "file_extension": ".py",
   "mimetype": "text/x-python",
   "name": "python",
   "nbconvert_exporter": "python",
   "pygments_lexer": "ipython3",
   "version": "3.7.9"
  }
 },
 "nbformat": 4,
 "nbformat_minor": 4
}
