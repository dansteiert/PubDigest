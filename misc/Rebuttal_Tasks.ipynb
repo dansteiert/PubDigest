{
 "cells": [
  {
   "metadata": {},
   "cell_type": "markdown",
   "source": "# Rebuttal Tasks asked by Reviewers",
   "id": "ea7746284764693b"
  },
  {
   "cell_type": "code",
   "id": "initial_id",
   "metadata": {
    "collapsed": true,
    "ExecuteTime": {
     "end_time": "2024-07-24T09:58:40.302378Z",
     "start_time": "2024-07-24T09:58:37.852431Z"
    }
   },
   "source": [
    "from misc.save_files import *\n",
    "import os, sys, re, enchant, logging\n",
    "import seaborn as sns\n",
    "import matplotlib.pyplot as plt\n",
    "import numpy as np\n",
    "logger = logging.getLogger()\n",
    "from Keywords.special_terms import extract_abbreviations, extract_medical_terms, extract_disease_terms\n",
    "\n",
    "from nltk.tokenize import TweetTokenizer\n",
    "from nltk.stem import WordNetLemmatizer\n",
    "from nltk.corpus import wordnet as wn\n",
    "from nltk.util import ngrams\n",
    "\n",
    "from misc.counter import count_dict_three_level\n",
    "import copy\n",
    "\n",
    "from gensim.models import TfidfModel\n",
    "from gensim import corpora\n",
    "import matplotlib\n",
    "from misc.abb_med_disease import gen_abb_med_disease\n",
    "\n"
   ],
   "outputs": [],
   "execution_count": 1
  },
  {
   "metadata": {},
   "cell_type": "markdown",
   "source": [
    "## Setup Locations & Parameters\n",
    "target_path: should contain \n",
    " - {Query Phrase}_dataset.pkl # all small characters and whitespaces replaced with \"_\"\n",
    " - {Associated Disease}_dataset.pkl # all small characters and whitespaces replaced with \"_\"\n"
   ],
   "id": "ee957c45c5cee04d"
  },
  {
   "metadata": {
    "ExecuteTime": {
     "end_time": "2024-07-24T09:58:40.333907Z",
     "start_time": "2024-07-24T09:58:40.307717Z"
    }
   },
   "cell_type": "code",
   "source": [
    "target_path = \"C:\\\\Users\\\\non-admin\\\\OneDrive - Charité - Universitätsmedizin Berlin\\\\Rebuttal PLOS Comput Biol\\\\Files for Dataverse Upload\\\\New_Data_Crawl_2024_07_11\"\n",
    "os.makedirs(target_path, exist_ok=True)\n",
    "USAN_Stems_file = \"C:\\\\Users\\\\non-admin\\\\Documents\\PyCharm\\\\PubDigest\\\\base_data\\\\USAN_Stems.csv\"\n",
    "query_phrase=\"chronic_thromboembolic_pulmonary_hypertension\"\n",
    "associated_disease=\"venous_thrombosis\""
   ],
   "id": "1d824ab60a2b22e9",
   "outputs": [],
   "execution_count": 2
  },
  {
   "metadata": {},
   "cell_type": "markdown",
   "source": "## Read in Data",
   "id": "3cb57dccf7d40231"
  },
  {
   "metadata": {
    "ExecuteTime": {
     "end_time": "2024-07-24T09:59:22.163070Z",
     "start_time": "2024-07-24T09:58:40.333907Z"
    }
   },
   "cell_type": "code",
   "source": [
    "query_phrase = query_phrase.replace(\" \", \"_\").lower()\n",
    "associated_disease = associated_disease.replace(\" \", \"_\").lower()\n",
    "\n",
    "df_query = read_pickle(path=os.path.join(target_path, f\"{query_phrase}_dataset.pkl\"), logger=logger)\n",
    "\n",
    "\n",
    "df_associated_disease = read_pickle(path=os.path.join(target_path, f\"{associated_disease}_dataset.pkl\"), logger=logger)"
   ],
   "id": "9841c75b9f418d3e",
   "outputs": [],
   "execution_count": 3
  },
  {
   "metadata": {
    "ExecuteTime": {
     "end_time": "2024-07-24T09:59:22.210877Z",
     "start_time": "2024-07-24T09:59:22.167689Z"
    }
   },
   "cell_type": "code",
   "source": "print(df_query.shape[0], df_associated_disease.shape[0])",
   "id": "2eedd49afe6baf19",
   "outputs": [
    {
     "name": "stdout",
     "output_type": "stream",
     "text": [
      "3614 82267\n"
     ]
    }
   ],
   "execution_count": 4
  },
  {
   "metadata": {
    "ExecuteTime": {
     "end_time": "2024-07-24T09:59:22.289567Z",
     "start_time": "2024-07-24T09:59:22.217017Z"
    }
   },
   "cell_type": "code",
   "source": [
    "term_list = df_query[\"clean_text\"].tolist()\n",
    "len([True for i in term_list if len(i) > 0])"
   ],
   "id": "bb638d9dea37b566",
   "outputs": [
    {
     "data": {
      "text/plain": [
       "3614"
      ]
     },
     "execution_count": 5,
     "metadata": {},
     "output_type": "execute_result"
    }
   ],
   "execution_count": 5
  },
  {
   "metadata": {
    "ExecuteTime": {
     "end_time": "2024-07-24T09:59:22.384299Z",
     "start_time": "2024-07-24T09:59:22.295617Z"
    }
   },
   "cell_type": "code",
   "source": [
    "term_list = df_associated_disease[\"clean_text\"].tolist()\n",
    "len([True for i in term_list if len(i) > 0])"
   ],
   "id": "a56e958fa8b8df3f",
   "outputs": [
    {
     "data": {
      "text/plain": [
       "82260"
      ]
     },
     "execution_count": 6,
     "metadata": {},
     "output_type": "execute_result"
    }
   ],
   "execution_count": 6
  },
  {
   "metadata": {},
   "cell_type": "markdown",
   "source": "Save Dataset as Excel File",
   "id": "71abcd2fa0507926"
  },
  {
   "metadata": {
    "ExecuteTime": {
     "end_time": "2024-07-24T09:59:22.416334Z",
     "start_time": "2024-07-24T09:59:22.390588Z"
    }
   },
   "cell_type": "code",
   "source": [
    "if not os.path.isfile(os.path.join(target_path, f\"{query_phrase}_dataset.xlsx\")):\n",
    "    df_query.sort_values(by=[\"publication year\", \"publication month\", \"publication day\"], ascending=False).to_excel(os.path.join(target_path, f\"{query_phrase}_dataset.xlsx\"))\n",
    "if not os.path.isfile(os.path.join(target_path, f\"{associated_disease}_dataset.xlsx\")):\n",
    "    df_associated_disease.sort_values(by=[\"publication year\", \"publication month\", \"publication day\"], ascending=False).to_excel(os.path.join(target_path, f\"{associated_disease}_dataset.xlsx\"))"
   ],
   "id": "45982cca4a5ddb87",
   "outputs": [],
   "execution_count": 7
  },
  {
   "metadata": {},
   "cell_type": "markdown",
   "source": [
    "## Analyze Special Terms\n",
    "  - Drug Terms\n",
    "  - Clinical Features"
   ],
   "id": "103d88f1edad4b18"
  },
  {
   "metadata": {
    "ExecuteTime": {
     "end_time": "2024-07-24T09:59:22.495452Z",
     "start_time": "2024-07-24T09:59:22.418853Z"
    }
   },
   "cell_type": "code",
   "source": [
    "def extract_medical_terms_USAN(document_text_list: list, USAN_Stems):\n",
    "    \"\"\"\n",
    "    :param document_text_list: list -> corpus_list[document_1_list[term_1, term_2, ... term_n], document_2_list[term_1, term_2, ... term_n], ..., document_n_list[term_1, term_2, ... term_n]]\n",
    "    :return:\n",
    "    \"\"\"\n",
    "    df_drug_stems = pd.read_csv(USAN_Stems)\n",
    "    df_drug_stems[\"prefix\"] = df_drug_stems.apply(lambda x: True if x[\"Stems\"][0] != \"-\" and x[\"Stems\"][-1] == \"-\" else False, axis=1)\n",
    "    df_drug_stems[\"suffix\"] = df_drug_stems.apply(lambda x: True if x[\"Stems\"][0] == \"-\" and x[\"Stems\"][-1] != \"-\" else False, axis=1)\n",
    "    df_drug_stems[\"infix\"] = df_drug_stems.apply(lambda x: True if x[\"Stems\"][0] == \"-\" and x[\"Stems\"][-1] == \"-\" else False, axis=1)\n",
    "    df_drug_stems[\"just_stem\"] = df_drug_stems.apply(lambda x:  x[\"Stems\"].strip(\"-\"), axis=1)\n",
    "    df_drug_stems[\"error\"] = df_drug_stems.apply(lambda x: False if x[\"prefix\"] or x[\"suffix\"] or x[\"infix\"] else True, axis=1)\n",
    "    # med_dict = dict(df_med[\"Synonyms\"])\n",
    "    prefix_set = set(df_drug_stems[df_drug_stems[\"prefix\"]][\"just_stem\"])\n",
    "    prefix_len_set = set(len(i) for i in prefix_set)\n",
    "    suffix_set = set(df_drug_stems[df_drug_stems[\"suffix\"]][\"just_stem\"])\n",
    "    suffix_len_set = set(len(i) for i in suffix_set)\n",
    "    infix_set = set(df_drug_stems[df_drug_stems[\"infix\"]][\"just_stem\"])\n",
    "    infix_len_set = set(len(i) for i in infix_set)\n",
    "    med_terms = [[term for term in doc\n",
    "                         if any(True for i in suffix_len_set\n",
    "                                if len(term) > i and term[-i:] in suffix_set)\n",
    "                         or any(True for i in prefix_len_set\n",
    "                                if len(term) > i and term[:i] in prefix_set)\n",
    "                         or any(True for i in infix_len_set\n",
    "                                for j in range(len(term))\n",
    "                                if len(term[j+1:-1]) > i and term[j+1:j+1+i]) in infix_set]\n",
    "                        for doc in document_text_list]\n",
    "    d = enchant.Dict(\"en_US\")\n",
    "    med_terms = [[term for term in doc if not d.check(term)] for doc in med_terms]\n",
    "    return set([j for i in med_terms for j in i])"
   ],
   "id": "d055a22fb7c5af22",
   "outputs": [],
   "execution_count": 8
  },
  {
   "metadata": {
    "ExecuteTime": {
     "end_time": "2024-07-24T10:04:10.396689Z",
     "start_time": "2024-07-24T09:59:22.498742Z"
    }
   },
   "cell_type": "code",
   "source": [
    "document_text_list=df_query[\"clean_text\"].tolist()\n",
    "usan_set = extract_medical_terms_USAN(document_text_list=document_text_list, USAN_Stems=USAN_Stems_file)\n",
    "usan_set_cteph = usan_set\n",
    "usan_set_vt = extract_medical_terms_USAN(document_text_list=df_associated_disease[\"clean_text\"].tolist(), USAN_Stems=USAN_Stems_file)"
   ],
   "id": "d766643b94589acb",
   "outputs": [],
   "execution_count": 9
  },
  {
   "metadata": {
    "ExecuteTime": {
     "end_time": "2024-07-24T10:04:10.617064Z",
     "start_time": "2024-07-24T10:04:10.405344Z"
    }
   },
   "cell_type": "code",
   "source": [
    "df_chembl_drugs = pd.read_csv(\"C:\\\\Users\\\\non-admin\\\\Documents\\\\PyCharm\\\\PubMedCrawler\\\\base_data\\\\CHEMBL_medication_names.csv\") # Requires manual download from ChEMBL + preprocessing by misc/prepCHEMBL.py\n",
    "chembl_set = set([j for i in document_text_list for j in i]).intersection(set(df_chembl_drugs[\"Synonyms\"]))"
   ],
   "id": "f36c2a18d85937e9",
   "outputs": [],
   "execution_count": 10
  },
  {
   "metadata": {
    "ExecuteTime": {
     "end_time": "2024-07-24T10:04:10.649331Z",
     "start_time": "2024-07-24T10:04:10.640795Z"
    }
   },
   "cell_type": "code",
   "source": [
    "print(\"USAN unique terms:\", len(usan_set))\n",
    "print(\"ChEMBL unique terms:\", len(chembl_set))"
   ],
   "id": "b98b5a4e31147411",
   "outputs": [
    {
     "name": "stdout",
     "output_type": "stream",
     "text": [
      "USAN unique terms: 234\n",
      "ChEMBL unique terms: 130\n"
     ]
    }
   ],
   "execution_count": 11
  },
  {
   "metadata": {
    "ExecuteTime": {
     "end_time": "2024-07-24T10:04:10.680623Z",
     "start_time": "2024-07-24T10:04:10.649862Z"
    }
   },
   "cell_type": "code",
   "source": [
    "def mean_std_counts(term_list, group, prefix, dataset_category):\n",
    "    term_length = [len(i) for i in term_list]\n",
    "    term_length_unique = [len(set(i)) for i in term_list]\n",
    "    term_length_non_zero = [len(i) for i in term_list if len(i) > 0]\n",
    "    term_length_non_zero_unique = [len(set(i)) for i in term_list if len(i) > 0]\n",
    "    dict_list = []\n",
    "    print(group, prefix, dataset_category, min(term_length_non_zero), np.mean(term_length_non_zero), max(term_length_non_zero))\n",
    "    for term_list_temp, term_list_name in zip([term_length, term_length_unique, term_length_non_zero, term_length_non_zero_unique], [\"All Terms\",  \"Unique Terms\", \"All Terms\\nNo Empty Abstract\", \"Unique Terms\\nNo Empty Abstract\"]):\n",
    "        dict_list.append({\"Dataset Category\": dataset_category, \"Dataset Name\": prefix, \n",
    "                     \"Term Group\": group,\n",
    "                     \"Filtering\": term_list_name,\n",
    "                     \"# Terms\": len(term_list_temp),\n",
    "                     \"Mean length\": np.mean(term_list_temp),\n",
    "                     \"standard deviation\": np.std(term_list_temp),\n",
    "                          \"#Terms per Abstract\": term_list_temp})\n",
    "        \n",
    "    # print(\"Term_length length:\", len(term_length), \"Term_length mean:\", np.mean(term_length),\"Term_length std:\", np.std(term_length))\n",
    "    # print(\"Term_length length:\", len(term_length_unique), \"Term_length unique mean:\", np.mean(term_length_unique),\"Term_length unique std:\", np.std(term_length_unique))\n",
    "    # print(\"Term_length length:\", len(term_length_non_zero), \"Term_length non zero mean:\", np.mean(term_length_non_zero),\"Term_length non zero std:\", np.std(term_length_non_zero))\n",
    "    # print(\"Term_length length:\", len(term_length_non_zero_unique), \"Term_length non zero unique mean:\", np.mean(term_length_non_zero_unique),\"Term_length non zero unique std:\", np.std(term_length_non_zero_unique))\n",
    "\n",
    "\n",
    "    # df_temp = pd.DataFrame(data={\"All Terms\": term_length, \"Unique Term length\": term_length_unique})\n",
    "    # df_temp_non_zero = pd.DataFrame(data={\"All Terms - No Zero Counts\": term_length_non_zero, \"Unique Term length - No Zero Counts\": term_length_non_zero_unique})\n",
    "    # df_temp_melt = df_temp.melt(var_name=\"Subset\", value_name=\"Document Term Count\")\n",
    "    # df_temp_melt_non_zero = df_temp_non_zero.melt(var_name=\"Subset\", value_name=\"Document Term Count\")\n",
    "    # df_plotting = pd.concat([df_temp_melt, df_temp_melt_non_zero])\n",
    "    # ax = sns.violinplot(data=df_plotting, x=\"Subset\", y=\"Document Term Count\", density_norm=\"count\", width=1.5)\n",
    "    # plt.xticks(rotation=90)\n",
    "    # # ax = sns.scatterplot(data=df_temp_melt, x_jitter=1, hue=\"Subset\", x=\"Subset\", y=\"Document Term Count\", legend=False)\n",
    "    # plt.title(group)\n",
    "    # plt.tight_layout()\n",
    "    # plt.savefig(os.path.join(target_path, f\"{prefix}_{group}_Term_length.png\"), dpi=400)\n",
    "    # plt.show()\n",
    "    # plt.clf()\n",
    "    return dict_list"
   ],
   "id": "de9c0f97fba5647c",
   "outputs": [],
   "execution_count": 12
  },
  {
   "metadata": {},
   "cell_type": "markdown",
   "source": "### Query Phrase",
   "id": "e0b51fe97c3d2a4e"
  },
  {
   "metadata": {
    "ExecuteTime": {
     "end_time": "2024-07-24T10:04:10.696538Z",
     "start_time": "2024-07-24T10:04:10.682293Z"
    }
   },
   "cell_type": "code",
   "source": [
    "drug_list_list = df_query[\"medical_terms_clean_text\"].tolist()\n",
    "used_drug_terms = {j for i in drug_list_list for j in i}\n",
    "# secondary filtering:     \n",
    "# \"medicalterms_to_ignore_suffix\": [\"ase\", \"pathy\", \"thoracic\", \"graphy\", \"pathic\"],\n",
    "\n",
    "print(usan_set.difference(used_drug_terms))"
   ],
   "id": "ea69a9b366b696db",
   "outputs": [
    {
     "name": "stdout",
     "output_type": "stream",
     "text": [
      "{'b--urokinase', 'oxidoreductase', 'antielastase', 'transaminase', 'transcriptase-polymerase', 'non-cardiothoracic', 'intrathoracic', 'caspase', 'hs-tnt-increase', 'synthase', 'transpeptidase', 'clase', 'myeloperoxidase', 'bulgaria-case', 'staphylokinase', 'elastase', 'hydrolase', 'arteriopathy', 'metalloproteinase', 'NTM-disease', 'anistreplase', 'guanylate-cyclase', 'synthetase', 'arteriopathic', 'urokinase', 'exonuclease', 'tenecteplase', 'a--urokinase', 'ciclase', 'hs-tnt-decrease', 'alteplase', 'cardiothoracic', 'embase', 'april', 'deacetylase', 'starBase', 'cyclase', 'arteriography', 'arteriolopathy', 'dismutase', 'transthoracic', 'anhydrase', 'aminotransferase', 'reteplase', 'heparanase', 'saruplase'}\n"
     ]
    }
   ],
   "execution_count": 13
  },
  {
   "metadata": {
    "ExecuteTime": {
     "end_time": "2024-07-24T10:04:10.712199Z",
     "start_time": "2024-07-24T10:04:10.698215Z"
    }
   },
   "cell_type": "code",
   "source": "term_length_dict_list = []",
   "id": "3a89d81205d2b4ce",
   "outputs": [],
   "execution_count": 14
  },
  {
   "metadata": {
    "ExecuteTime": {
     "end_time": "2024-07-24T10:04:10.791937Z",
     "start_time": "2024-07-24T10:04:10.712199Z"
    }
   },
   "cell_type": "code",
   "source": [
    "term_list = df_query[\"clean_text\"].tolist()\n",
    "drug_list_list = df_query[\"medical_terms_clean_text\"].tolist()\n",
    "disease_list_list = df_query[\"disease_terms_clean_text\"].tolist()\n",
    "\n",
    "print(\"Drug Compounds\", \"Unique:\", len({j for i in drug_list_list for j in i}))\n",
    "term_length_dict_list.extend(mean_std_counts(drug_list_list, group=\"Drug Compound\", prefix=query_phrase, dataset_category=\"Query Phrase\"))\n",
    "print(\"disease terms\", \"Unique:\", len({j for i in disease_list_list for j in i}))\n",
    "term_length_dict_list.extend(mean_std_counts(disease_list_list, group=\"Clinical Feature\", prefix=query_phrase, dataset_category=\"Query Phrase\"))\n",
    "drug_terms = {j for i in drug_list_list for j in i}\n",
    "clinical_Feature_terms = {j for i in disease_list_list for j in i}\n",
    "df_special_terms = pd.DataFrame(data={\"Term Category\": [*[\"Drug Compound Terms\" for i in drug_terms],\n",
    "                                                         *[\"Clinical Feature Terms\" for i in clinical_Feature_terms]],\n",
    "                                   \"Term\": [*drug_terms, *clinical_Feature_terms]})\n",
    "df_special_terms.to_csv(os.path.join(target_path, f\"{query_phrase}_Special_Terms.tsv\"), decimal=\",\", sep=\"\\t\")"
   ],
   "id": "35429ddcacffdf86",
   "outputs": [
    {
     "name": "stdout",
     "output_type": "stream",
     "text": [
      "Drug Compounds Unique: 188\n",
      "Drug Compound chronic_thromboembolic_pulmonary_hypertension Query Phrase 1 4.738434163701068 43\n",
      "disease terms Unique: 330\n",
      "Clinical Feature chronic_thromboembolic_pulmonary_hypertension Query Phrase 1 3.097560975609756 28\n"
     ]
    }
   ],
   "execution_count": 15
  },
  {
   "metadata": {},
   "cell_type": "markdown",
   "source": "### Associated Disease",
   "id": "dab1e1ddc92a4229"
  },
  {
   "metadata": {
    "ExecuteTime": {
     "end_time": "2024-07-24T10:04:11.452989Z",
     "start_time": "2024-07-24T10:04:10.793563Z"
    }
   },
   "cell_type": "code",
   "source": [
    "term_list = df_associated_disease[\"clean_text\"].tolist()\n",
    "drug_list_list = df_associated_disease[\"medical_terms_clean_text\"].tolist()\n",
    "disease_list_list = df_associated_disease[\"disease_terms_clean_text\"].tolist()\n",
    "\n",
    "print(\"Drug Compounds\",  \"Unique:\", len({j for i in drug_list_list for j in i}))\n",
    "term_length_dict_list.extend(mean_std_counts(drug_list_list, group=\"Drug Compound\", prefix=associated_disease, dataset_category=\"Associated Disease\"))\n",
    "print(\"disease terms\",  \"Unique:\", len({j for i in disease_list_list for j in i}))\n",
    "term_length_dict_list.extend(mean_std_counts(disease_list_list, group=\"Clinical Feature\", prefix=associated_disease, dataset_category=\"Associated Disease\"))\n",
    "drug_terms = {j for i in drug_list_list for j in i}\n",
    "clinical_Feature_terms = {j for i in disease_list_list for j in i}\n",
    "df_special_terms = pd.DataFrame(data={\"Term Category\": [*[\"Drug Compound Terms\" for i in drug_terms],\n",
    "                                                         *[\"Clinical Feature Terms\" for i in clinical_Feature_terms]],\n",
    "                                   \"Term\": [*drug_terms, *clinical_Feature_terms]})\n",
    "df_special_terms.to_csv(os.path.join(target_path, f\"{associated_disease}_Special_Terms.tsv\"), decimal=\",\", sep=\"\\t\")"
   ],
   "id": "b57e969abc629084",
   "outputs": [
    {
     "name": "stdout",
     "output_type": "stream",
     "text": [
      "Drug Compounds Unique: 2197\n",
      "Drug Compound venous_thrombosis Associated Disease 1 3.9526770040959627 70\n",
      "disease terms Unique: 2343\n",
      "Clinical Feature venous_thrombosis Associated Disease 1 4.168294604760418 94\n"
     ]
    }
   ],
   "execution_count": 16
  },
  {
   "metadata": {},
   "cell_type": "markdown",
   "source": "",
   "id": "29af91b9a452045d"
  },
  {
   "metadata": {
    "ExecuteTime": {
     "end_time": "2024-07-24T10:04:11.500900Z",
     "start_time": "2024-07-24T10:04:11.452989Z"
    }
   },
   "cell_type": "code",
   "source": [
    "df_term_length_distribution = pd.DataFrame(term_length_dict_list)\n",
    "df_term_length_distribution[[i for i in df_term_length_distribution.columns \n",
    "                                                         if i != \"#Terms per Abstract\"]].to_csv(os.path.join(target_path, \"Abstract_Term_length_distribution.tsv\"), decimal=\",\", sep=\"\\t\")"
   ],
   "id": "6d66cd750faec48d",
   "outputs": [],
   "execution_count": 17
  },
  {
   "metadata": {
    "ExecuteTime": {
     "end_time": "2024-07-24T10:04:11.738489Z",
     "start_time": "2024-07-24T10:04:11.500900Z"
    }
   },
   "cell_type": "code",
   "source": [
    "df_melt_explode = df_term_length_distribution.explode(column=\"#Terms per Abstract\")\n",
    "# df_melt_explode = df_term_length_distribution[df_term_length_distribution[\"Dataset Category\"]== \"Query Phrase\"].explode(column=\"term length vector\")\n",
    "df_melt_explode[\"#Terms per Abstract\"] = pd.to_numeric(df_melt_explode[\"#Terms per Abstract\"])"
   ],
   "id": "75d66e5ce3a438ac",
   "outputs": [],
   "execution_count": 18
  },
  {
   "metadata": {
    "ExecuteTime": {
     "end_time": "2024-07-24T10:04:14.169923Z",
     "start_time": "2024-07-24T10:04:11.738489Z"
    }
   },
   "cell_type": "code",
   "source": [
    "ax = sns.violinplot(data=df_melt_explode[df_melt_explode[\"Dataset Name\"]==query_phrase], #kind=\"violin\", margine_titles=True, \n",
    "                    hue=\"Term Group\", split=False, cut=False,\n",
    "                    x=\"Filtering\", y=\"#Terms per Abstract\", density_norm=\"count\")\n",
    "plt.ylim(0, 10**2)\n",
    "\n",
    "# plt.grid(\"minor\")\n",
    "plt.tight_layout()\n",
    "\n",
    "plt.savefig(os.path.join(target_path, f\"{query_phrase}_Abstract_Term_length_distributions.png\"), dpi=400)\n",
    "\n",
    "plt.ylim(10**-2, 10**2)\n",
    "plt.gca().set_yscale(\"log\")\n",
    "# plt.yscale(\"log\")\n",
    "plt.gca().get_yaxis().set_major_formatter(matplotlib.ticker.ScalarFormatter())\n",
    "plt.savefig(os.path.join(target_path, f\"{query_phrase}_Abstract_Term_length_distributions_logy.png\"), dpi=400)\n",
    "\n",
    "\n",
    "plt.show()\n",
    "plt.clf()"
   ],
   "id": "72d932e16dde36d6",
   "outputs": [
    {
     "data": {
      "text/plain": [
       "<Figure size 640x480 with 1 Axes>"
      ],
      "image/png": "[encoded data removed]"
     },
     "metadata": {},
     "output_type": "display_data"
    },
    {
     "data": {
      "text/plain": [
       "<Figure size 640x480 with 0 Axes>"
      ]
     },
     "metadata": {},
     "output_type": "display_data"
    }
   ],
   "execution_count": 19
  },
  {
   "metadata": {
    "ExecuteTime": {
     "end_time": "2024-07-24T10:04:20.998255Z",
     "start_time": "2024-07-24T10:04:14.172093Z"
    }
   },
   "cell_type": "code",
   "source": [
    "ax = sns.violinplot(data=df_melt_explode[df_melt_explode[\"Dataset Name\"]==associated_disease], #kind=\"violin\", margine_titles=True, \n",
    "                    hue=\"Term Group\", split=False, cut=False,\n",
    "                    x=\"Filtering\", y=\"#Terms per Abstract\", density_norm=\"count\")\n",
    "plt.ylim(0, 10**2)\n",
    "\n",
    "# plt.grid(\"minor\")\n",
    "plt.tight_layout()\n",
    "\n",
    "plt.savefig(os.path.join(target_path, f\"{associated_disease}_Abstract_Term_length_distributions.png\"), dpi=400)\n",
    "\n",
    "plt.ylim(10**-2, 10**2)\n",
    "plt.gca().set_yscale(\"log\")\n",
    "# plt.yscale(\"log\")\n",
    "plt.gca().get_yaxis().set_major_formatter(matplotlib.ticker.ScalarFormatter())\n",
    "\n",
    "plt.savefig(os.path.join(target_path, f\"{associated_disease}_Abstract_Term_length_distributions_logy.png\"), dpi=400)\n",
    "\n",
    "\n",
    "plt.show()\n",
    "plt.clf()"
   ],
   "id": "187c34e132069654",
   "outputs": [
    {
     "data": {
      "text/plain": [
       "<Figure size 640x480 with 1 Axes>"
      ],
      "image/png": "[encoded data removed]"
     },
     "metadata": {},
     "output_type": "display_data"
    },
    {
     "data": {
      "text/plain": [
       "<Figure size 640x480 with 0 Axes>"
      ]
     },
     "metadata": {},
     "output_type": "display_data"
    }
   ],
   "execution_count": 20
  },
  {
   "metadata": {
    "ExecuteTime": {
     "end_time": "2024-07-24T10:04:21.014051Z",
     "start_time": "2024-07-24T10:04:20.998255Z"
    }
   },
   "cell_type": "code",
   "source": [
    "# ax = sns.catplot(data=df_melt_explode, kind=\"violin\", col=\"Dataset Name\", margine_titles=True, \n",
    "#                  bw_method=\"scott\",\n",
    "#                     hue=\"Term Group\", split=True, cut=True,\n",
    "#                     x=\"Filtering\", y=\"term length vector\", density_norm=\"count\")\n",
    "# plt.ylim(0, 18)\n",
    "# plt.tight_layout()\n",
    "# plt.savefig(os.path.join(target_path, f\"Abstract_Term_length_distributions_cutoff.png\"), dpi=400)\n",
    "# plt.show()\n",
    "# plt.clf()"
   ],
   "id": "a72ee87d514a627d",
   "outputs": [],
   "execution_count": 21
  },
  {
   "metadata": {},
   "cell_type": "markdown",
   "source": [
    "## TF-IDFs\n",
    "Filter and Sort TF-IDFs as per user specs"
   ],
   "id": "89c03f3e666bff63"
  },
  {
   "metadata": {
    "ExecuteTime": {
     "end_time": "2024-07-24T10:04:21.029750Z",
     "start_time": "2024-07-24T10:04:21.014051Z"
    }
   },
   "cell_type": "code",
   "source": [
    "def sort_tfidf(df_tfidf):\n",
    "    column_list = [*sorted([i for i in df_tfidf.columns if i not in [\"avg\", \"idf\", \"sum\"]]),\n",
    "               \"idf\", \"TF_Corpus\"]\n",
    "    column_list.append(\"TF-IDF\")\n",
    "    df_tfidf = df_tfidf.assign(TF_Corpus=df_tfidf[\"sum\"] / df_tfidf[\"idf\"])\n",
    "    df_tfidf = df_tfidf.rename(columns={\"sum\": \"TF-IDF\"})\n",
    "    df_tfidf = df_tfidf[column_list]\n",
    "    df_tfidf = df_tfidf.sort_values(by=\"TF-IDF\", ascending=False)\n",
    "    return df_tfidf"
   ],
   "id": "b2a5d61130026ae0",
   "outputs": [],
   "execution_count": 22
  },
  {
   "metadata": {
    "ExecuteTime": {
     "end_time": "2024-07-24T10:04:21.061048Z",
     "start_time": "2024-07-24T10:04:21.029750Z"
    }
   },
   "cell_type": "code",
   "source": [
    "disease_terms_to_ignore = {\"diagnosis\", \"prognosis\", \"misdiagnosis\", \"analysis\", \"basis\",\n",
    "                              \"meta-analysis\", \"ontology\", \"doagra\", \"angiogram\", \"hypothesis\", \"program\", \"synthesis\",\n",
    "                              \"poor-prognosis\"}\n",
    "medicalterms_to_ignore_suffix= {\"ase\", \"pathy\", \"thoracic\", \"graphy\", \"pathic\"}\n",
    "medicalterms_to_ignore= [\"april\"]\n",
    "def filter_medical_terms(document_text_list: list, ignore_terms, ignore_term_suffix):\n",
    "\n",
    "    document_text_list = [[term for term in doc if not term in ignore_terms] for doc in document_text_list]\n",
    "    document_text_list = [[term for term in doc\n",
    "                  if not any(i == term[-len(i):] for i in ignore_term_suffix)]\n",
    "                 for doc in document_text_list]\n",
    "    return document_text_list"
   ],
   "id": "6ff6ca6934945b79",
   "outputs": [],
   "execution_count": 23
  },
  {
   "metadata": {
    "ExecuteTime": {
     "end_time": "2024-07-24T10:04:21.187187Z",
     "start_time": "2024-07-24T10:04:21.063674Z"
    }
   },
   "cell_type": "code",
   "source": [
    "df_tfidf_disease = read_pickle(os.path.join(target_path, f\"{query_phrase}_tfidf_1_gram_disease_filterable.pkl\"),\n",
    "                               logger=logger)\n",
    "df_tfidf_disease = df_tfidf_disease[~df_tfidf_disease.index.isin(disease_terms_to_ignore)]\n",
    "df_tfidf_disease = sort_tfidf(df_tfidf=df_tfidf_disease)\n",
    "df_tfidf_disease.to_csv(os.path.join(target_path, f\"{query_phrase}_TF_IDF_Clinical_Features.tsv\"), decimal=\",\", sep=\"\\t\")\n",
    "\n",
    "\n",
    "df_tfidf_drugs = read_pickle(os.path.join(target_path, f\"{query_phrase}_tfidf_1_gram_med_filterable.pkl\"),\n",
    "                               logger=logger)\n",
    "terms_to_keep = filter_medical_terms(document_text_list=df_tfidf_drugs.index.tolist(), ignore_terms=medicalterms_to_ignore, ignore_term_suffix=medicalterms_to_ignore_suffix)\n",
    "df_tfidf_drugs = sort_tfidf(df_tfidf=df_tfidf_drugs)\n",
    "df_tfidf_drugs.to_csv(os.path.join(target_path, f\"{query_phrase}_TF_IDF_Drugs.tsv\"), decimal=\",\", sep=\"\\t\")"
   ],
   "id": "5afeeb0cbd3c6b54",
   "outputs": [],
   "execution_count": 24
  },
  {
   "metadata": {},
   "cell_type": "markdown",
   "source": "## Identify Disease Terms",
   "id": "d158607192c8488"
  },
  {
   "metadata": {
    "ExecuteTime": {
     "end_time": "2024-07-24T10:04:29.153876Z",
     "start_time": "2024-07-24T10:04:21.187187Z"
    }
   },
   "cell_type": "code",
   "source": [
    "# <editor-fold desc=\"Identify Disease Terms\">\n",
    "def identify_possible_diseases(document_text_list: list, terms_of_interest: set, terms_of_uninterest: set, minimum_naming=5):\n",
    "\n",
    "\n",
    "    ngram_list = [[[\" \".join([i for i in ngram]) for ngram in ngrams(sequence=doc, n=n)] for doc in document_text_list] for n in\n",
    "                  [2, 3, 4, 5]]\n",
    "    c_dict = count_dict_three_level(ngram_list)\n",
    "    c_dict = {k: v for k, v in c_dict.items() if v > minimum_naming and any(True if term in k else False for term in terms_of_interest) and not any(True if term in k else False for term in terms_of_uninterest)}\n",
    "    new_dict = {}\n",
    "    for k, v in c_dict.items():\n",
    "\n",
    "        dict_of_duplicates = {key: val for key, val in c_dict.items() if (k in key or key in k) and k != key}\n",
    "        if not any(v < dup_val for dup_val in dict_of_duplicates.values()):\n",
    "            new_dict[k] = v\n",
    "\n",
    "    df_disease_count = pd.DataFrame(data={\"disease name\": new_dict.keys(), \"term count\": new_dict.values()})\n",
    "    return df_disease_count\n",
    "\n",
    "\n",
    "\n",
    "\n",
    "\n",
    "terms_of_interest_top10 = set(df_tfidf_disease.index.tolist()[:10])\n",
    "terms_of_uninterest={\"have\", \"be\", \"use\", \"may\", \"not\", \"diagnosis\", \"prognosis\", \"misdiagnosis\", \"analysis\", \"basis\",\n",
    "                          \"meta-analysis\", \"ontology\", \"doagra\", \"angiogram\", \"hypothesis\", \"program\", \"synthesis\", \"poor-prognosis\"}\n",
    "\n",
    "df_disease_counts_top10 = identify_possible_diseases(df_query[\"clean_text\"].tolist(), terms_of_interest=terms_of_interest_top10,\n",
    "                                                     terms_of_uninterest=terms_of_uninterest)\n",
    "df_disease_counts_top10 = df_disease_counts_top10.sort_values(by=[\"term count\"], ascending=False)\n",
    "\n",
    "df_disease_counts_all = identify_possible_diseases(df_query[\"clean_text\"].tolist(), terms_of_interest=set(df_tfidf_disease.index),\n",
    "                                                     terms_of_uninterest=terms_of_uninterest)\n",
    "df_disease_counts_all = df_disease_counts_all.sort_values(by=[\"term count\"], ascending=False)\n",
    "\n",
    "df_disease_counts_top10.sort_values(by=[\"term count\"], ascending=False).to_csv(os.path.join(target_path, f\"{query_phrase}_Disease_names_counts_top10_clinical_features.tsv\"), decimal=\",\", sep=\"\\t\")\n",
    "df_disease_counts_all.sort_values(by=[\"term count\"], ascending=False).to_csv(os.path.join(target_path, f\"{query_phrase}_Disease_names_counts_ALL_clinical_features.tsv\"), decimal=\",\", sep=\"\\t\")\n",
    "# </editor-fold>\n"
   ],
   "id": "bc5ac3596011ab",
   "outputs": [],
   "execution_count": 25
  },
  {
   "metadata": {},
   "cell_type": "markdown",
   "source": "## Annotation of Predicted indirect Terms",
   "id": "5f5357885e224c82"
  },
  {
   "metadata": {
    "ExecuteTime": {
     "end_time": "2024-07-24T10:04:29.518148Z",
     "start_time": "2024-07-24T10:04:29.153876Z"
    }
   },
   "cell_type": "code",
   "source": [
    "keyed_vector = read_pickle(os.path.join(target_path, \"joined_skip-gram_model_CTEPH_VT_w2v_2024.kv\"), logger=logger)\n",
    "base_term = \"CTEPH\"\n",
    "top_prediction_terms = len(keyed_vector.index2entity)\n",
    "most_similar_terms = keyed_vector.most_similar(positive=[base_term], topn=top_prediction_terms)\n",
    "df_most_similar_terms = pd.DataFrame(data={\"drug compound\": [i[0] for i in most_similar_terms],\n",
    "                                              \"cosine_similarity\": [i[1] for i in most_similar_terms]})\n"
   ],
   "id": "f61620746f1fcb02",
   "outputs": [],
   "execution_count": 26
  },
  {
   "metadata": {
    "ExecuteTime": {
     "end_time": "2024-07-24T10:04:29.549690Z",
     "start_time": "2024-07-24T10:04:29.518148Z"
    }
   },
   "cell_type": "code",
   "source": [
    "anti_thrombotic_drugs = {# from previously compiled list\n",
    "                                   \"caplacizumab\", \"benzarone\", \"enalaprilat\", \"trental\", \"mechlorethamine\", \"androgel\",\n",
    "                                  # https://www.drugs.com/drug-class/thrombolytics.html#\n",
    "                                  \"streptodornase\", \"vorapaxar\", \"abciximab\", \"eptifibatide\", \"tirofiban\", \"streptokinase\",\n",
    "                                  \"alteplase\", \"tenecteplase\", \"reteplase\", \"urokinase\", \"streptase\", \"kinlytic\", #\"abbokinase\",\n",
    "                                   # https://www.drugs.com/drug-class/thrombin-inhibitors.html\n",
    "                                  \"dabigatran\", \"bivalirudin\", \"desirudin\",\n",
    "                                   # https://www.drugs.com/drug-class/heparins.html\n",
    "                                   \"enoxaparin\", \"delteparin\", \"tinzaparin\", \" danaparoid\",\n",
    "                                   # https://www.drugs.com/drug-class/factor-xa-inhibitors.html\n",
    "                                   \"apixaban\", \"fondaparinux\", \"rivaroxaban\", \"edoxaban\", \"betrixaban\",\n",
    "                                   # https://www.drugs.com/drug-class/coumarins-and-indandiones.html\n",
    "                                   \"warfarin\",\n",
    "                                   # https://www.drugs.com/drug-class/antiplatelet-agents.html\n",
    "                                 \"aspirin\", \"cangrelor\", \"cilostazol\", \"clopidogrel\", \"dipyridamole\", \"prasugrel\", \"ticlopidine\", \"ticagrelo\"}\n",
    "pro_thrombotic_drugs = {# from a compiled list\n",
    "                                   \"carfilzomib\", \"etanercept\",  \"olmesartan\", \"olanzapine\", \"ponatinib\", \"levaminsol\",\n",
    "                                 # https://link.springer.com/article/10.1007/s40264-013-0054-6/tables/1\n",
    "                                   \"ciclosporin\", \"5-FU\", \"bleomycin\", \"busulfan\", \"cis-platinum\", \"doxorubicin\",\n",
    "                                   \"gemtuzumab\", \"asparainase\", \"l-asparainase\", \"mitomycin\", \"paclitaxel\", \"tamoxifen\",\n",
    "                                   \"thalidomide\", \"bevacizumab\", \"rofecoxib\", \"ephedra\", \"erythropoietin\", \"heparin\",\n",
    "                                   \"ciclosporin\", \"glucocoricoids\", \"dexamethasone\", \"sirolimus\", \"interferon\", \"interferon-alpha\",\n",
    "                                   \"metformin\", \"quinine\", \"escitalopram\", \"sildenafil\", \"ticlopidin\", \"clopidogrel\", \"tranexamic\"\n",
    "}\n",
    "\n",
    "\n",
    "not_a_drug = {\"arteriomegaly\", \"calciphylaxis\", \"troponin-i\", \"arterially\", \"sP-selectin\", \"virginia\", \"calpastatin\"\n",
    "              \"predilution\", \"intra-cardiac\", \"arteriolosclerotic\", \"arteriopathy\", \"rac\", \"prediabetes\", \"arteriographically\",\n",
    "              \"deiminase\", \"bitistatin\", \"metavir\", \"cyclase\", \"elastase\", \"nonstatin\",\"arteriopathic\", \"virologic\",\n",
    "              \"algerian\", \"gly197\", \"arterioarterial\",\"femoro-iliac\", \"serpine\", \"pre-menopausal\", \"alpha-galactosidase\",\n",
    "              \"somali\", \"transthoracic\", \"gadofosveset-enhanced\", \"calprotectin\", \"coeliac\", \"belfast\", \"on-oac\",\n",
    "              \"non-edoxaban\", \"philippine\", \"somalia\",  'biermer', 'gondar', 'BRAF-mutant',  'bulgarian', 'glioblastoma-related', 'hungarian',\n",
    "              'prediagnosis',  'iowa', 'extracardiac','predesigned', 'ultrafast', 'jordan', 'faisal', 'guangzhou', 'nonhemophiliac',\n",
    "              \"arteriopathy\",  \"troponins\", \"somalia\", \n",
    "              \"arteriopathic\", \"cyclase\", \"guanylate\", \"bulgarian\", \"myofibroblast\", \"neopterin\", \n",
    "\"deacetylase\", \"prediagnosis\",'selectin',\n",
    "              'april','alzheimer', 'austrian','guanosine', 'nigerian', 'non-doac','virchow', 'propeptide','nonheparin',\n",
    "        'arteriogram', 'arteriography', 'arteriopathies', 'deux', 'noncardiac', 'noncontrast', 'postcontrast', 'predischarge',\n",
    "        'submucosal', 'synthase', 'synthetase', 'transcriptase-polymerase', 'transpeptidase', 'trophoblastic', 'immer',\n",
    "        'saruplase','transaminase', 'staphylokinase', 'hydrolase','metalloproteinase','myeloperoxidase','exonuclease','heparanase',\n",
    "        'embase', 'dismutase','caspase','aminotransferase', 'anhydrase'\n",
    "\n",
    "\n",
    "\n",
    "\n",
    "\n",
    "}\n",
    "\n",
    "\n",
    "other_drugs = {\"ruxolitinib\": \"fibrosis\", \"fasudil\": \"hemorrhage\",\n",
    "               \"imatinib\": \"cancer\", \"filgotinib\": \"artritis\",\n",
    "               \"gatifloxacin\": \"anti_bacterial\", \"ixekizumab\": \"auto_immune\",\n",
    "               \"ranibizumab\":\"retinal vein occlusion\", \"diltiazem\": \"angia\",\n",
    "               \"aflibercept\": \"retinal vein occlusion\", \"sorafenib\": \"cancer\",\n",
    "               \"dydrogesterone\": \"menstrual cycle\", \"lasofoxifene\": \"osteoporosis\", \"tolvaptan\": \"hyponatremia\",\n",
    "               'alpelisib': \"NA\", 'sofosbuvir': \"NA\", 'lasofoxifene': \"NA\", 'neopterin': \"NA\", 'AngioVac': \"NA\", \n",
    "               'rifamycins': \"NA\", 'phloretin': \"NA\", '99mTc-apcitide': \"NA\", 'alirocumab': \"NA\",'selectin': \"NA\",\n",
    "               'omalizumab': \"NA\", 'diltiazem': \"NA\", 'lectin': \"NA\", 'aviptadil': \"NA\", 'dupilumab': \"NA\", 'romidepsin': \"NA\",\n",
    "               'vaspin': \"NA\",'beta-sitosterol': \"NA\"\n",
    "               }\n",
    "\n",
    "\n",
    "\n"
   ],
   "id": "4b2b09346043c2d8",
   "outputs": [],
   "execution_count": 27
  },
  {
   "metadata": {
    "ExecuteTime": {
     "end_time": "2024-07-24T10:04:30.040873Z",
     "start_time": "2024-07-24T10:04:29.551206Z"
    }
   },
   "cell_type": "code",
   "source": "known_terms_vt = {j for i in df_associated_disease[\"clean_text\"].tolist() for j in i if j == \"calcilytic\"}\n",
   "id": "59d1e437b51f8882",
   "outputs": [],
   "execution_count": 28
  },
  {
   "metadata": {
    "ExecuteTime": {
     "end_time": "2024-07-24T10:04:30.072327Z",
     "start_time": "2024-07-24T10:04:30.040873Z"
    }
   },
   "cell_type": "code",
   "source": [
    "df_retrospective_validation = read_pickle(path=\"C:\\\\Users\\\\non-admin\\\\Documents\\\\PyCharm\\\\PubDigest\\\\data\\\\chronic thromboembolic pulmonary hypertension\\\\Data_for_Plotting\\\\Embedding\\\\specific_term_validation_skip-gram_CTEPH_venous thrombosis.pkl\", logger=logger)\n",
    "set(df_retrospective_validation[\"query_term\"])"
   ],
   "id": "624829363fe401f6",
   "outputs": [
    {
     "data": {
      "text/plain": [
       "{'abciximab',\n",
       " 'abiraterone',\n",
       " 'acenocumarol',\n",
       " 'acetazolamide',\n",
       " 'adiponectin',\n",
       " 'alteplase',\n",
       " 'ambrisentan',\n",
       " 'androgel',\n",
       " 'anti-cardiolipin',\n",
       " 'anticardiolipin',\n",
       " 'apixaban',\n",
       " 'armamentarium',\n",
       " 'arteriais',\n",
       " 'arteriosus',\n",
       " 'aspirin',\n",
       " 'atorvastatin',\n",
       " 'aviptadil',\n",
       " 'azithromycin',\n",
       " 'baricitinib',\n",
       " 'benzarone',\n",
       " 'beraprost',\n",
       " 'betrixaban',\n",
       " 'bevacizumab',\n",
       " 'bivalirudin',\n",
       " 'bleomycin',\n",
       " 'bosentan',\n",
       " 'busulfan',\n",
       " 'calcilytic',\n",
       " 'calciparin',\n",
       " 'cangrelor',\n",
       " 'caplacizumab',\n",
       " 'cardiolipin',\n",
       " 'cardiothoracic',\n",
       " 'carfilzomib',\n",
       " 'ceftriaxone',\n",
       " 'chemoattractant',\n",
       " 'chylopericardium',\n",
       " 'ciclosporin',\n",
       " 'cilostazol',\n",
       " 'cis-platinum',\n",
       " 'cisplatin',\n",
       " 'clarithromycin',\n",
       " 'clopidogrel',\n",
       " 'cyproterone',\n",
       " 'dabigatran',\n",
       " 'darbepoetin',\n",
       " 'delteparin',\n",
       " 'desirudin',\n",
       " 'dexamethasone',\n",
       " 'digoxin',\n",
       " 'diltiazem',\n",
       " 'dipyridamole',\n",
       " 'doxorubicin',\n",
       " 'doxycycline',\n",
       " 'e-selectin',\n",
       " 'eculizumab',\n",
       " 'edoxaban',\n",
       " 'enalaprilat',\n",
       " 'endostatin',\n",
       " 'enoxaparin',\n",
       " 'epoetin',\n",
       " 'eptifibatide',\n",
       " 'erythropoietin',\n",
       " 'escitalopram',\n",
       " 'etanercept',\n",
       " 'everolimus',\n",
       " 'fasudil',\n",
       " 'fondaparinux',\n",
       " 'furosemide',\n",
       " 'gemtuzumab',\n",
       " 'hemopericardium',\n",
       " 'heparin',\n",
       " 'hepcidin',\n",
       " 'iloprost',\n",
       " 'imatinib',\n",
       " 'interferon',\n",
       " 'interferon-alpha',\n",
       " 'interstitium',\n",
       " 'intrathoracic',\n",
       " 'iodinate',\n",
       " 'iomeprol',\n",
       " 'ionise',\n",
       " 'ketanserin',\n",
       " 'ketoconazole',\n",
       " 'l-selectin',\n",
       " 'macitentan',\n",
       " 'meconium',\n",
       " 'melagatran',\n",
       " 'metformin',\n",
       " 'methylprednisolone',\n",
       " 'metoprolol',\n",
       " 'mitomycin',\n",
       " 'mucosal',\n",
       " 'nadroparin',\n",
       " 'neuroendocrine',\n",
       " 'nifedipine',\n",
       " 'olanzapine',\n",
       " 'olmesartan',\n",
       " 'omeprazole',\n",
       " 'p-selectin',\n",
       " 'paclitaxel',\n",
       " 'paliperidone',\n",
       " 'paracrine',\n",
       " 'podoplanin',\n",
       " 'ponatinib',\n",
       " 'prasugrel',\n",
       " 'prednisolone',\n",
       " 'prohepcidin',\n",
       " 'pyridostigmine',\n",
       " 'quinine',\n",
       " 'rapamycin',\n",
       " 'regurgitant',\n",
       " 'reteplase',\n",
       " 'riociguat',\n",
       " 'risperidone',\n",
       " 'rituximab',\n",
       " 'rivaroxaban',\n",
       " 'rofecoxib',\n",
       " 'ruxolitinib',\n",
       " 'selectin',\n",
       " 'sildenafil',\n",
       " 'sirolimus',\n",
       " 'sofosbuvir',\n",
       " 'streptase',\n",
       " 'streptokinase',\n",
       " 'tadalafil',\n",
       " 'tamoxifen',\n",
       " 'tenecteplase',\n",
       " 'thalidomide',\n",
       " 'thromboxane',\n",
       " 'ticlopidine',\n",
       " 'tinzaparin',\n",
       " 'tirofiban',\n",
       " 'tofacitinib',\n",
       " 'tranexamic',\n",
       " 'troponin',\n",
       " 'urokinase',\n",
       " 'valsartan',\n",
       " 'vardenafil',\n",
       " 'vasopressin',\n",
       " 'warfarin',\n",
       " 'ximelagatran'}"
      ]
     },
     "execution_count": 29,
     "metadata": {},
     "output_type": "execute_result"
    }
   ],
   "execution_count": 29
  },
  {
   "metadata": {
    "ExecuteTime": {
     "end_time": "2024-07-24T10:04:30.104374Z",
     "start_time": "2024-07-24T10:04:30.072327Z"
    }
   },
   "cell_type": "code",
   "source": "df_retrospective_validation[df_retrospective_validation[\"query_term\"]==\"bosentan\"]",
   "id": "4c2c1eaac3af50b7",
   "outputs": [
    {
     "data": {
      "text/plain": [
       "                 year base_term query_term  similarity  co_occurrence\n",
       "30               2024     CTEPH   bosentan    0.424565              1\n",
       "31  before_prediction     CTEPH   bosentan         NaN             32"
      ],
      "text/html": [
       "<div>\n",
       "<style scoped>\n",
       "    .dataframe tbody tr th:only-of-type {\n",
       "        vertical-align: middle;\n",
       "    }\n",
       "\n",
       "    .dataframe tbody tr th {\n",
       "        vertical-align: top;\n",
       "    }\n",
       "\n",
       "    .dataframe thead th {\n",
       "        text-align: right;\n",
       "    }\n",
       "</style>\n",
       "<table border=\"1\" class=\"dataframe\">\n",
       "  <thead>\n",
       "    <tr style=\"text-align: right;\">\n",
       "      <th></th>\n",
       "      <th>year</th>\n",
       "      <th>base_term</th>\n",
       "      <th>query_term</th>\n",
       "      <th>similarity</th>\n",
       "      <th>co_occurrence</th>\n",
       "    </tr>\n",
       "  </thead>\n",
       "  <tbody>\n",
       "    <tr>\n",
       "      <th>30</th>\n",
       "      <td>2024</td>\n",
       "      <td>CTEPH</td>\n",
       "      <td>bosentan</td>\n",
       "      <td>0.424565</td>\n",
       "      <td>1</td>\n",
       "    </tr>\n",
       "    <tr>\n",
       "      <th>31</th>\n",
       "      <td>before_prediction</td>\n",
       "      <td>CTEPH</td>\n",
       "      <td>bosentan</td>\n",
       "      <td>NaN</td>\n",
       "      <td>32</td>\n",
       "    </tr>\n",
       "  </tbody>\n",
       "</table>\n",
       "</div>"
      ]
     },
     "execution_count": 30,
     "metadata": {},
     "output_type": "execute_result"
    }
   ],
   "execution_count": 30
  },
  {
   "metadata": {
    "ExecuteTime": {
     "end_time": "2024-07-24T10:04:30.120031Z",
     "start_time": "2024-07-24T10:04:30.104374Z"
    }
   },
   "cell_type": "code",
   "source": "df_coocurence = read_pickle(\"C:\\\\Users\\\\non-admin\\\\Documents\\\\PyCharm\\\\PubDigest\\\\data\\\\chronic thromboembolic pulmonary hypertension\\\\Data_for_Plotting\\\\Embedding\\\\venous thrombosis\\\\Prediction_Term_Overlap_specific_term_validation.pkl\", logger=logger)",
   "id": "f2f41275c5c9a208",
   "outputs": [],
   "execution_count": 31
  },
  {
   "metadata": {
    "ExecuteTime": {
     "end_time": "2024-07-24T10:04:30.135721Z",
     "start_time": "2024-07-24T10:04:30.120031Z"
    }
   },
   "cell_type": "code",
   "source": "df_coocurence.head()",
   "id": "16772a8777a9ca48",
   "outputs": [
    {
     "data": {
      "text/plain": [
       "                       VT  CTEPH\n",
       "Term                            \n",
       "apixaban             True   True\n",
       "olmesartan           True  False\n",
       "ambrisentan         False   True\n",
       "methylprednisolone   True   True\n",
       "ruxolitinib          True   True"
      ],
      "text/html": [
       "<div>\n",
       "<style scoped>\n",
       "    .dataframe tbody tr th:only-of-type {\n",
       "        vertical-align: middle;\n",
       "    }\n",
       "\n",
       "    .dataframe tbody tr th {\n",
       "        vertical-align: top;\n",
       "    }\n",
       "\n",
       "    .dataframe thead th {\n",
       "        text-align: right;\n",
       "    }\n",
       "</style>\n",
       "<table border=\"1\" class=\"dataframe\">\n",
       "  <thead>\n",
       "    <tr style=\"text-align: right;\">\n",
       "      <th></th>\n",
       "      <th>VT</th>\n",
       "      <th>CTEPH</th>\n",
       "    </tr>\n",
       "    <tr>\n",
       "      <th>Term</th>\n",
       "      <th></th>\n",
       "      <th></th>\n",
       "    </tr>\n",
       "  </thead>\n",
       "  <tbody>\n",
       "    <tr>\n",
       "      <th>apixaban</th>\n",
       "      <td>True</td>\n",
       "      <td>True</td>\n",
       "    </tr>\n",
       "    <tr>\n",
       "      <th>olmesartan</th>\n",
       "      <td>True</td>\n",
       "      <td>False</td>\n",
       "    </tr>\n",
       "    <tr>\n",
       "      <th>ambrisentan</th>\n",
       "      <td>False</td>\n",
       "      <td>True</td>\n",
       "    </tr>\n",
       "    <tr>\n",
       "      <th>methylprednisolone</th>\n",
       "      <td>True</td>\n",
       "      <td>True</td>\n",
       "    </tr>\n",
       "    <tr>\n",
       "      <th>ruxolitinib</th>\n",
       "      <td>True</td>\n",
       "      <td>True</td>\n",
       "    </tr>\n",
       "  </tbody>\n",
       "</table>\n",
       "</div>"
      ]
     },
     "execution_count": 32,
     "metadata": {},
     "output_type": "execute_result"
    }
   ],
   "execution_count": 32
  },
  {
   "metadata": {
    "ExecuteTime": {
     "end_time": "2024-07-24T10:04:30.199543Z",
     "start_time": "2024-07-24T10:04:30.138227Z"
    }
   },
   "cell_type": "code",
   "source": [
    "drug_terms = {*usan_set_cteph, *usan_set_vt}\n",
    "terms_to_keep = {base_term, *drug_terms, *pro_thrombotic_drugs, *anti_thrombotic_drugs}\n",
    "df_most_similar_terms = df_most_similar_terms[df_most_similar_terms[\"drug compound\"].isin(terms_to_keep)]\n",
    "known_terms = {j for i in df_query[\"clean_text\"].tolist() for j in i if j in terms_to_keep}\n",
    "\n"
   ],
   "id": "bd22e3fa412cfe23",
   "outputs": [],
   "execution_count": 33
  },
  {
   "metadata": {
    "ExecuteTime": {
     "end_time": "2024-07-24T10:04:30.277904Z",
     "start_time": "2024-07-24T10:04:30.201715Z"
    }
   },
   "cell_type": "code",
   "source": [
    "df_most_similar_terms = df_most_similar_terms.assign(**{\"Direct Association\":\n",
    "                                                            df_most_similar_terms.apply(lambda x: x[\"drug compound\"]\n",
    "                                                                                                  in known_terms, axis=1),\n",
    "                                                        \"Anti-thrombotic drugs\":\n",
    "                                                            df_most_similar_terms.apply(lambda x: x[\"drug compound\"]\n",
    "                                                                                                  in anti_thrombotic_drugs, axis=1),\n",
    "                                                        \"Pro-thrombotic drugs\":\n",
    "                                                            df_most_similar_terms.apply(lambda x: x[\"drug compound\"]\n",
    "                                                                                                  in pro_thrombotic_drugs, axis=1),\n",
    "                                                        \"Not a drug\":\n",
    "                                                            df_most_similar_terms.apply(lambda x: x[\"drug compound\"]\n",
    "                                                                                                  in not_a_drug, axis=1),\n",
    "                                                        # \"Other drugs\":\n",
    "                                                        #     df_most_similar_terms.apply(lambda x: other_drugs.get(x[\"drug compound\"], \"\"),\n",
    "                                                        #                                 axis=1),\n",
    "                                                        # \"Other drugs Hit\":\n",
    "                                                        #     df_most_similar_terms.apply(lambda x: x[\"drug compound\"] in other_drugs.keys(),\n",
    "                                                        #                                 axis=1)\n",
    "                                                        })\n",
    "\n",
    "# df_most_similar_terms[~((df_most_similar_terms[\"Direct Association\"]) |\n",
    "#                         (df_most_similar_terms[\"Anti-thrombotic drugs\"]) |\n",
    "#                         (df_most_similar_terms[\"Pro-thrombotic drugs\"]) |\n",
    "#                         (df_most_similar_terms[\"Not a drug\"]) |\n",
    "#                         (df_most_similar_terms[\"Other drugs\"]))][\"drug compound\"].tolist()\n",
    "\n",
    "df_most_similar_terms.to_csv(os.path.join(target_path, \"CTEPH_VT_Predicted_Drugs_in_Embedding_Layer_with_Similarity_Annotated_Skip-gram_Model.tsv\"), decimal=\",\", sep=\"\\t\")\n",
    "df_annotation = pd.DataFrame(data={\"Thrombotic_Effect\": [*[\"Anti-thrombotic\" for i in anti_thrombotic_drugs],\n",
    "                                                         *[\"Pro-thrombotic\" for i in pro_thrombotic_drugs]],\n",
    "                                   \"Drug Compound\": [*anti_thrombotic_drugs, *pro_thrombotic_drugs]})\n",
    "df_annotation.to_csv(os.path.join(target_path, \"Thrombotic_Annotation.tsv\"), decimal=\",\", sep=\"\\t\")\n",
    "# </editor-fold>"
   ],
   "id": "2377e5ef68526c97",
   "outputs": [],
   "execution_count": 34
  },
  {
   "metadata": {
    "ExecuteTime": {
     "end_time": "2024-07-24T10:04:30.309082Z",
     "start_time": "2024-07-24T10:04:30.288231Z"
    }
   },
   "cell_type": "code",
   "source": "len(set(df_most_similar_terms[(df_most_similar_terms[\"Direct Association\"]) & ~((df_most_similar_terms[\"Anti-thrombotic drugs\"]) | (df_most_similar_terms[\"Pro-thrombotic drugs\"]) | (df_most_similar_terms[\"Not a drug\"]))][\"drug compound\"]))",
   "id": "491e71296535e213",
   "outputs": [
    {
     "data": {
      "text/plain": [
       "82"
      ]
     },
     "execution_count": 35,
     "metadata": {},
     "output_type": "execute_result"
    }
   ],
   "execution_count": 35
  },
  {
   "metadata": {
    "ExecuteTime": {
     "end_time": "2024-07-24T10:04:30.356193Z",
     "start_time": "2024-07-24T10:04:30.311205Z"
    }
   },
   "cell_type": "code",
   "source": [
    "len(set(df_most_similar_terms[~df_most_similar_terms.apply(lambda x:any([x[i] for i in [\"Direct Association\", \"Anti-thrombotic drugs\", \"Pro-thrombotic drugs\", \"Not a drug\"\n",
    "                                                                                        ]]), axis=1)][\"drug compound\"].tolist())) # Not labeled!"
   ],
   "id": "22954ecec2260d7a",
   "outputs": [
    {
     "data": {
      "text/plain": [
       "615"
      ]
     },
     "execution_count": 36,
     "metadata": {},
     "output_type": "execute_result"
    }
   ],
   "execution_count": 36
  },
  {
   "metadata": {
    "ExecuteTime": {
     "end_time": "2024-07-24T10:04:30.451979Z",
     "start_time": "2024-07-24T10:04:30.359511Z"
    }
   },
   "cell_type": "code",
   "source": [
    "print(\"Total Drug Compounds in dataset: \", df_most_similar_terms.shape[0])\n",
    "print(\"Not Labeled:\", df_most_similar_terms[~df_most_similar_terms.apply(lambda x:any([x[i] for i in [\"Direct Association\", \"Anti-thrombotic drugs\", \"Pro-thrombotic drugs\", #\"Other drugs Hit\", \"Not a drug\"\n",
    "                                                                                                      ]]), axis=1)].shape[0]) # Not labeled!\n",
    "\n",
    "for i in [\"Direct Association\", \"Anti-thrombotic drugs\", \"Pro-thrombotic drugs\", \"Not a drug\"]:#,  \"Other drugs Hit\"]:\n",
    "    print(i, \"Number of Hits:\", df_most_similar_terms[df_most_similar_terms[i]].shape[0])\n",
    "    \n",
    "for i in [[\"Direct Association\", \"Anti-thrombotic drugs\"], \n",
    "          [\"Direct Association\", \"Pro-thrombotic drugs\"], \n",
    "          # [\"Direct Association\",\"Other drugs Hit\"] # have not been labeled!\n",
    "          ]:\n",
    "    print(i, \"Number of Hits:\", df_most_similar_terms[df_most_similar_terms.apply(lambda x:all([x[j] for j in i]), axis=1)].shape[0])"
   ],
   "id": "b7670f8e0b11ae6",
   "outputs": [
    {
     "name": "stdout",
     "output_type": "stream",
     "text": [
      "Total Drug Compounds in dataset:  839\n",
      "Not Labeled: 654\n",
      "Direct Association Number of Hits: 162\n",
      "Anti-thrombotic drugs Number of Hits: 28\n",
      "Pro-thrombotic drugs Number of Hits: 23\n",
      "Not a drug Number of Hits: 92\n",
      "['Direct Association', 'Anti-thrombotic drugs'] Number of Hits: 18\n",
      "['Direct Association', 'Pro-thrombotic drugs'] Number of Hits: 10\n"
     ]
    }
   ],
   "execution_count": 37
  },
  {
   "metadata": {
    "ExecuteTime": {
     "end_time": "2024-07-24T10:04:30.482981Z",
     "start_time": "2024-07-24T10:04:30.453087Z"
    }
   },
   "cell_type": "code",
   "source": [
    "df_specific_term_validation_CBOW = read_pickle(os.path.join(target_path, \"specific_term_validation_CBOW_CTEPH_venous thrombosis.pkl\"), logger=logger)\n",
    "df_specific_term_validation_CBOW.to_csv(os.path.join(target_path, \"specific_term_validation_CBOW_CTEPH_VT.tsv\"), decimal=\",\", sep=\"\\t\")"
   ],
   "id": "c046c1f0a9010450",
   "outputs": [],
   "execution_count": 38
  },
  {
   "metadata": {
    "ExecuteTime": {
     "end_time": "2024-07-24T10:04:30.530817Z",
     "start_time": "2024-07-24T10:04:30.486541Z"
    }
   },
   "cell_type": "code",
   "source": [
    "df_specific_term_validation_skip_gram = read_pickle(os.path.join(target_path, \"specific_term_validation_skip-gram_CTEPH_venous thrombosis.pkl\"), logger=logger)\n",
    "df_specific_term_validation_skip_gram.to_csv(os.path.join(target_path, \"specific_term_validation_skip-gram_CTEPH_VT.tsv\"), decimal=\",\", sep=\"\\t\")"
   ],
   "id": "bbc30024f8fb68a3",
   "outputs": [],
   "execution_count": 39
  },
  {
   "metadata": {},
   "cell_type": "markdown",
   "source": "## KG analysis - KG Prime",
   "id": "60768e92ea2853dd"
  },
  {
   "metadata": {
    "ExecuteTime": {
     "end_time": "2024-07-24T11:26:51.623076Z",
     "start_time": "2024-07-24T11:26:11.024790Z"
    }
   },
   "cell_type": "code",
   "source": [
    "df_kg = pd.read_csv(os.path.join(target_path, \"kg.csv\"))\n",
    "df_kg_cetph = df_kg[df_kg[\"x_name\"] == \"chronic thromboembolic pulmonary hypertension\"]\n",
    "df_kg_cetph = df_kg[df_kg[\"y_name\"] == \"chronic thromboembolic pulmonary hypertension\"]\n",
    "df_kg_cetph.to_csv(os.path.join(target_path, \"KG_Prime_kg_CETPH.tsv\"), decimal=\",\", sep=\"\\t\")\n"
   ],
   "id": "7117086fc184cd80",
   "outputs": [
    {
     "name": "stderr",
     "output_type": "stream",
     "text": [
      "C:\\Users\\non-admin\\miniforge3\\envs\\PubDigest\\lib\\site-packages\\IPython\\core\\interactiveshell.py:3553: DtypeWarning: Columns (3,8) have mixed types.Specify dtype option on import or set low_memory=False.\n",
      "  exec(code_obj, self.user_global_ns, self.user_ns)\n"
     ]
    }
   ],
   "execution_count": 41
  }
 ],
 "metadata": {
  "kernelspec": {
   "display_name": "Python 3",
   "language": "python",
   "name": "python3"
  },
  "language_info": {
   "codemirror_mode": {
    "name": "ipython",
    "version": 2
   },
   "file_extension": ".py",
   "mimetype": "text/x-python",
   "name": "python",
   "nbconvert_exporter": "python",
   "pygments_lexer": "ipython2",
   "version": "2.7.6"
  }
 },
 "nbformat": 4,
 "nbformat_minor": 5
}
