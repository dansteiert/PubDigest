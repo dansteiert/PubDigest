{
 "cells": [
  {
   "metadata": {},
   "cell_type": "markdown",
   "source": "# Rebuttal Tasks asked by Reviewers",
   "id": "ea7746284764693b"
  },
  {
   "cell_type": "code",
   "id": "initial_id",
   "metadata": {
    "collapsed": true,
    "ExecuteTime": {
     "end_time": "2024-07-12T16:18:35.419945Z",
     "start_time": "2024-07-12T16:18:33.678236Z"
    }
   },
   "source": [
    "from misc.save_files import *\n",
    "import os, sys, re, enchant, logging\n",
    "import seaborn as sns\n",
    "import matplotlib.pyplot as plt\n",
    "import numpy as np\n",
    "logger = logging.getLogger()\n",
    "from Keywords.special_terms import extract_abbreviations, extract_medical_terms, extract_disease_terms\n",
    "\n",
    "from nltk.tokenize import TweetTokenizer\n",
    "from nltk.stem import WordNetLemmatizer\n",
    "from nltk.corpus import wordnet as wn\n",
    "from nltk.util import ngrams\n",
    "\n",
    "from misc.counter import count_dict_three_level\n",
    "\n",
    "\n",
    "from gensim.models import TfidfModel\n",
    "from gensim import corpora\n",
    "\n",
    "from misc.abb_med_disease import gen_abb_med_disease\n",
    "\n"
   ],
   "outputs": [],
   "execution_count": 1
  },
  {
   "metadata": {},
   "cell_type": "markdown",
   "source": [
    "## Setup Locations & Parameters\n",
    "target_path: should contain \n",
    " - {Query Phrase}_dataset.pkl # all small characters and whitespaces replaced with \"_\"\n",
    " - {Associated Disease}_dataset.pkl # all small characters and whitespaces replaced with \"_\"\n"
   ],
   "id": "ee957c45c5cee04d"
  },
  {
   "metadata": {
    "ExecuteTime": {
     "end_time": "2024-07-12T16:18:35.451601Z",
     "start_time": "2024-07-12T16:18:35.423346Z"
    }
   },
   "cell_type": "code",
   "source": [
    "target_path = \"C:\\\\Users\\\\non-admin\\\\OneDrive - Charité - Universitätsmedizin Berlin\\\\Rebuttal PLOS Comput Biol\\\\Files for Dataverse Upload\\\\New_Data_Crawl_2024_07_11\"\n",
    "os.makedirs(target_path, exist_ok=True)\n",
    "USAN_Stems_file = \"C:\\\\Users\\\\non-admin\\\\Documents\\PyCharm\\\\PubDigest\\\\base_data\\\\USAN_Stems.csv\"\n",
    "query_phrase=\"chronic_thromboembolic_pulmonary_hypertension\"\n",
    "associated_disease=\"venous_thrombosis\""
   ],
   "id": "1d824ab60a2b22e9",
   "outputs": [],
   "execution_count": 2
  },
  {
   "metadata": {},
   "cell_type": "markdown",
   "source": "## Read in Data",
   "id": "3cb57dccf7d40231"
  },
  {
   "metadata": {
    "ExecuteTime": {
     "end_time": "2024-07-12T16:18:49.796080Z",
     "start_time": "2024-07-12T16:18:35.453887Z"
    }
   },
   "cell_type": "code",
   "source": [
    "query_phrase = query_phrase.replace(\" \", \"_\").lower()\n",
    "associated_disease = associated_disease.replace(\" \", \"_\").lower()\n",
    "\n",
    "df_query = read_pickle(path=os.path.join(target_path, f\"{query_phrase}_dataset.pkl\"), logger=logger)\n",
    "\n",
    "\n",
    "df_associated_disease = read_pickle(path=os.path.join(target_path, f\"{associated_disease}_dataset.pkl\"), logger=logger)"
   ],
   "id": "9841c75b9f418d3e",
   "outputs": [],
   "execution_count": 3
  },
  {
   "metadata": {},
   "cell_type": "markdown",
   "source": "Save Dataset as Excel File",
   "id": "71abcd2fa0507926"
  },
  {
   "metadata": {
    "ExecuteTime": {
     "end_time": "2024-07-12T16:18:49.827600Z",
     "start_time": "2024-07-12T16:18:49.799940Z"
    }
   },
   "cell_type": "code",
   "source": [
    "if not os.path.isfile(os.path.join(target_path, f\"{query_phrase}_dataset.xlsx\")):\n",
    "    df_query.sort_values(by=[\"publication year\", \"publication month\", \"publication day\"], ascending=False).to_excel(os.path.join(target_path, f\"{query_phrase}_dataset.xlsx\"))\n",
    "if not os.path.isfile(os.path.join(target_path, f\"{associated_disease}_dataset.xlsx\")):\n",
    "    df_associated_disease.sort_values(by=[\"publication year\", \"publication month\", \"publication day\"], ascending=False).to_excel(os.path.join(target_path, f\"{associated_disease}_dataset.xlsx\"))"
   ],
   "id": "45982cca4a5ddb87",
   "outputs": [],
   "execution_count": 4
  },
  {
   "metadata": {},
   "cell_type": "markdown",
   "source": [
    "## Analyze Special Terms\n",
    "  - Drug Terms\n",
    "  - Clinical Features"
   ],
   "id": "103d88f1edad4b18"
  },
  {
   "metadata": {
    "ExecuteTime": {
     "end_time": "2024-07-12T16:18:49.859118Z",
     "start_time": "2024-07-12T16:18:49.827600Z"
    }
   },
   "cell_type": "code",
   "source": [
    "def extract_medical_terms_USAN(document_text_list: list, USAN_Stems):\n",
    "    \"\"\"\n",
    "    :param document_text_list: list -> corpus_list[document_1_list[term_1, term_2, ... term_n], document_2_list[term_1, term_2, ... term_n], ..., document_n_list[term_1, term_2, ... term_n]]\n",
    "    :return:\n",
    "    \"\"\"\n",
    "    df_drug_stems = pd.read_csv(USAN_Stems)\n",
    "    df_drug_stems[\"prefix\"] = df_drug_stems.apply(lambda x: True if x[\"Stems\"][0] != \"-\" and x[\"Stems\"][-1] == \"-\" else False, axis=1)\n",
    "    df_drug_stems[\"suffix\"] = df_drug_stems.apply(lambda x: True if x[\"Stems\"][0] == \"-\" and x[\"Stems\"][-1] != \"-\" else False, axis=1)\n",
    "    df_drug_stems[\"infix\"] = df_drug_stems.apply(lambda x: True if x[\"Stems\"][0] == \"-\" and x[\"Stems\"][-1] == \"-\" else False, axis=1)\n",
    "    df_drug_stems[\"just_stem\"] = df_drug_stems.apply(lambda x:  x[\"Stems\"].strip(\"-\"), axis=1)\n",
    "    df_drug_stems[\"error\"] = df_drug_stems.apply(lambda x: False if x[\"prefix\"] or x[\"suffix\"] or x[\"infix\"] else True, axis=1)\n",
    "    # med_dict = dict(df_med[\"Synonyms\"])\n",
    "    prefix_set = set(df_drug_stems[df_drug_stems[\"prefix\"]][\"just_stem\"])\n",
    "    prefix_len_set = set(len(i) for i in prefix_set)\n",
    "    suffix_set = set(df_drug_stems[df_drug_stems[\"suffix\"]][\"just_stem\"])\n",
    "    suffix_len_set = set(len(i) for i in suffix_set)\n",
    "    infix_set = set(df_drug_stems[df_drug_stems[\"infix\"]][\"just_stem\"])\n",
    "    infix_len_set = set(len(i) for i in infix_set)\n",
    "    med_terms = [[term for term in doc\n",
    "                         if any(True for i in suffix_len_set\n",
    "                                if len(term) > i and term[-i:] in suffix_set)\n",
    "                         or any(True for i in prefix_len_set\n",
    "                                if len(term) > i and term[:i] in prefix_set)\n",
    "                         or any(True for i in infix_len_set\n",
    "                                for j in range(len(term))\n",
    "                                if len(term[j+1:-1]) > i and term[j+1:j+1+i]) in infix_set]\n",
    "                        for doc in document_text_list]\n",
    "    d = enchant.Dict(\"en_US\")\n",
    "    med_terms = [[term for term in doc if not d.check(term)] for doc in med_terms]\n",
    "    return set([j for i in med_terms for j in i])"
   ],
   "id": "d055a22fb7c5af22",
   "outputs": [],
   "execution_count": 5
  },
  {
   "metadata": {
    "ExecuteTime": {
     "end_time": "2024-07-12T16:18:59.747150Z",
     "start_time": "2024-07-12T16:18:49.863372Z"
    }
   },
   "cell_type": "code",
   "source": [
    "document_text_list=df_query[\"clean_text\"].tolist()\n",
    "usan_set = extract_medical_terms_USAN(document_text_list=document_text_list, USAN_Stems=USAN_Stems_file)"
   ],
   "id": "d766643b94589acb",
   "outputs": [],
   "execution_count": 6
  },
  {
   "metadata": {
    "ExecuteTime": {
     "end_time": "2024-07-12T16:18:59.921924Z",
     "start_time": "2024-07-12T16:18:59.749820Z"
    }
   },
   "cell_type": "code",
   "source": [
    "df_chembl_drugs = pd.read_csv(\"C:\\\\Users\\\\non-admin\\\\Documents\\\\PyCharm\\\\PubMedCrawler\\\\base_data\\\\CHEMBL_medication_names.csv\") # Requires manual download from ChEMBL + preprocessing by misc/prepCHEMBL.py\n",
    "chembl_set = set([j for i in document_text_list for j in i]).intersection(set(df_chembl_drugs[\"Synonyms\"]))"
   ],
   "id": "f36c2a18d85937e9",
   "outputs": [],
   "execution_count": 7
  },
  {
   "metadata": {
    "ExecuteTime": {
     "end_time": "2024-07-12T16:18:59.937610Z",
     "start_time": "2024-07-12T16:18:59.923313Z"
    }
   },
   "cell_type": "code",
   "source": [
    "print(\"USAN unique terms:\", len(usan_set))\n",
    "print(\"ChEMBL unique terms:\", len(chembl_set))"
   ],
   "id": "b98b5a4e31147411",
   "outputs": [
    {
     "name": "stdout",
     "output_type": "stream",
     "text": [
      "USAN unique terms: 234\n",
      "ChEMBL unique terms: 130\n"
     ]
    }
   ],
   "execution_count": 8
  },
  {
   "metadata": {
    "ExecuteTime": {
     "end_time": "2024-07-12T16:18:59.969462Z",
     "start_time": "2024-07-12T16:18:59.938625Z"
    }
   },
   "cell_type": "code",
   "source": [
    "def mean_std_counts(term_list, group, prefix):\n",
    "    term_length = [len(i) for i in term_list]\n",
    "    term_length_unique = [len(set(i)) for i in term_list]\n",
    "    term_length_non_zero = [len(i) for i in term_list if len(i) > 0]\n",
    "    term_length_non_zero_unique = [len(set(i)) for i in term_list if len(i) > 0]\n",
    "    print(\"Term_length length:\", len(term_length), \"Term_length mean:\", np.mean(term_length),\"Term_length std:\", np.std(term_length))\n",
    "    print(\"Term_length length:\", len(term_length_unique), \"Term_length unique mean:\", np.mean(term_length_unique),\"Term_length unique std:\", np.std(term_length_unique))\n",
    "    print(\"Term_length length:\", len(term_length_non_zero), \"Term_length non zero mean:\", np.mean(term_length_non_zero),\"Term_length non zero std:\", np.std(term_length_non_zero))\n",
    "    print(\"Term_length length:\", len(term_length_non_zero_unique), \"Term_length non zero unique mean:\", np.mean(term_length_non_zero_unique),\"Term_length non zero unique std:\", np.std(term_length_non_zero_unique))\n",
    "\n",
    "\n",
    "    df_temp = pd.DataFrame(data={\"All Terms\": term_length, \"Unique Term length\": term_length_unique})\n",
    "    df_temp_non_zero = pd.DataFrame(data={\"All Terms - No Zero Counts\": term_length_non_zero, \"Unique Term length - No Zero Counts\": term_length_non_zero_unique})\n",
    "    df_temp_melt = df_temp.melt(var_name=\"Subset\", value_name=\"Document Term Count\")\n",
    "    df_temp_melt_non_zero = df_temp_non_zero.melt(var_name=\"Subset\", value_name=\"Document Term Count\")\n",
    "    df_plotting = pd.concat([df_temp_melt, df_temp_melt_non_zero])\n",
    "    ax = sns.violinplot(data=df_plotting, x=\"Subset\", y=\"Document Term Count\", density_norm=\"count\", width=1.5)\n",
    "    plt.xticks(rotation=90)\n",
    "    # ax = sns.scatterplot(data=df_temp_melt, x_jitter=1, hue=\"Subset\", x=\"Subset\", y=\"Document Term Count\", legend=False)\n",
    "    plt.title(group)\n",
    "    plt.tight_layout()\n",
    "    plt.savefig(os.path.join(target_path, f\"{prefix}_{group}_Term_length.png\"), dpi=400)\n",
    "    plt.show()\n",
    "    plt.clf()"
   ],
   "id": "de9c0f97fba5647c",
   "outputs": [],
   "execution_count": 9
  },
  {
   "metadata": {},
   "cell_type": "markdown",
   "source": "### Query Phrase",
   "id": "e0b51fe97c3d2a4e"
  },
  {
   "metadata": {
    "ExecuteTime": {
     "end_time": "2024-07-12T16:19:00.001190Z",
     "start_time": "2024-07-12T16:18:59.969462Z"
    }
   },
   "cell_type": "code",
   "source": [
    "drug_list_list = df_query[\"medical_terms_clean_text\"].tolist()\n",
    "used_drug_terms = {j for i in drug_list_list for j in i}\n",
    "# secondary filtering:     \n",
    "# \"medicalterms_to_ignore_suffix\": [\"ase\", \"pathy\", \"thoracic\", \"graphy\", \"pathic\"],\n",
    "\n",
    "print(usan_set.difference(used_drug_terms))"
   ],
   "id": "ea69a9b366b696db",
   "outputs": [
    {
     "name": "stdout",
     "output_type": "stream",
     "text": [
      "{'april', 'transaminase', 'anistreplase', 'arteriography', 'hs-tnt-increase', 'embase', 'arteriopathic', 'anhydrase', 'aminotransferase', 'b--urokinase', 'synthetase', 'antielastase', 'elastase', 'ciclase', 'hydrolase', 'starBase', 'transpeptidase', 'intrathoracic', 'arteriolopathy', 'a--urokinase', 'transthoracic', 'saruplase', 'non-cardiothoracic', 'tenecteplase', 'arteriopathy', 'deacetylase', 'synthase', 'myeloperoxidase', 'guanylate-cyclase', 'cyclase', 'heparanase', 'transcriptase-polymerase', 'hs-tnt-decrease', 'clase', 'oxidoreductase', 'metalloproteinase', 'caspase', 'staphylokinase', 'bulgaria-case', 'dismutase', 'reteplase', 'cardiothoracic', 'alteplase', 'NTM-disease', 'urokinase', 'exonuclease'}\n"
     ]
    }
   ],
   "execution_count": 10
  },
  {
   "metadata": {
    "ExecuteTime": {
     "end_time": "2024-07-12T16:19:02.725891Z",
     "start_time": "2024-07-12T16:19:00.004177Z"
    }
   },
   "cell_type": "code",
   "source": [
    "term_list = df_query[\"clean_text\"].tolist()\n",
    "drug_list_list = df_query[\"medical_terms_clean_text\"].tolist()\n",
    "disease_list_list = df_query[\"disease_terms_clean_text\"].tolist()\n",
    "\n",
    "print(\"Drug Compounds\", \"Unique:\", len({j for i in drug_list_list for j in i}))\n",
    "mean_std_counts(drug_list_list, group=\"Drug_Compound_Terms\", prefix=query_phrase)\n",
    "print(\"disease terms\", \"Unique:\", len({j for i in disease_list_list for j in i}))\n",
    "mean_std_counts(disease_list_list, group=\"Clinical_Feature_Terms\", prefix=query_phrase)\n",
    "drug_terms = {j for i in drug_list_list for j in i}\n",
    "clinical_Feature_terms = {j for i in disease_list_list for j in i}\n",
    "df_special_terms = pd.DataFrame(data={\"Term Category\": [*[\"Drug Compound Terms\" for i in drug_terms],\n",
    "                                                         *[\"Clinical Feature Terms\" for i in clinical_Feature_terms]],\n",
    "                                   \"Term\": [*drug_terms, *clinical_Feature_terms]})\n",
    "df_special_terms.to_csv(os.path.join(target_path, f\"{query_phrase}_Special_Terms.csv\"))"
   ],
   "id": "35429ddcacffdf86",
   "outputs": [
    {
     "name": "stdout",
     "output_type": "stream",
     "text": [
      "Drug Compounds Unique: 188\n",
      "Term_length length: 3614 Term_length mean: 0.7368566685113448 Term_length std: 2.576808507446631\n",
      "Term_length length: 3614 Term_length unique mean: 0.24432761483121196 Term_length unique std: 0.6848948788304356\n",
      "Term_length length: 562 Term_length non zero mean: 4.738434163701068 Term_length non zero std: 4.872128193648572\n",
      "Term_length length: 562 Term_length non zero unique mean: 1.5711743772241993 Term_length non zero unique std: 0.9652807613540583\n"
     ]
    },
    {
     "data": {
      "text/plain": [
       "<Figure size 640x480 with 1 Axes>"
      ],
      "image/png": "[encoded data removed]"
     },
     "metadata": {},
     "output_type": "display_data"
    },
    {
     "name": "stdout",
     "output_type": "stream",
     "text": [
      "disease terms Unique: 330\n",
      "Term_length length: 3614 Term_length mean: 1.1596568898727173 Term_length std: 2.336690220869582\n",
      "Term_length length: 3614 Term_length unique mean: 0.6474820143884892 Term_length unique std: 1.090393237242291\n",
      "Term_length length: 1353 Term_length non zero mean: 3.097560975609756 Term_length non zero std: 2.929464199490617\n",
      "Term_length length: 1353 Term_length non zero unique mean: 1.729490022172949 Term_length non zero unique std: 1.142148669497004\n"
     ]
    },
    {
     "data": {
      "text/plain": [
       "<Figure size 640x480 with 1 Axes>"
      ],
      "image/png": "[encoded data removed]"
     },
     "metadata": {},
     "output_type": "display_data"
    },
    {
     "data": {
      "text/plain": [
       "<Figure size 640x480 with 0 Axes>"
      ]
     },
     "metadata": {},
     "output_type": "display_data"
    }
   ],
   "execution_count": 11
  },
  {
   "metadata": {},
   "cell_type": "markdown",
   "source": "### Associated Disease",
   "id": "dab1e1ddc92a4229"
  },
  {
   "metadata": {
    "ExecuteTime": {
     "end_time": "2024-07-12T16:19:14.787134Z",
     "start_time": "2024-07-12T16:19:02.727077Z"
    }
   },
   "cell_type": "code",
   "source": [
    "term_list = df_associated_disease[\"clean_text\"].tolist()\n",
    "drug_list_list = df_associated_disease[\"medical_terms_clean_text\"].tolist()\n",
    "disease_list_list = df_associated_disease[\"disease_terms_clean_text\"].tolist()\n",
    "\n",
    "print(\"Drug Compounds\")\n",
    "mean_std_counts(drug_list_list, group=\"Drug_Compound_Terms\", prefix=associated_disease)\n",
    "print(\"disease terms\")\n",
    "mean_std_counts(disease_list_list, group=\"Clinical_Feature_Terms\", prefix=associated_disease)\n",
    "drug_terms = {j for i in drug_list_list for j in i}\n",
    "clinical_Feature_terms = {j for i in disease_list_list for j in i}\n",
    "df_special_terms = pd.DataFrame(data={\"Term Category\": [*[\"Drug Compound Terms\" for i in drug_terms],\n",
    "                                                         *[\"Clinical Feature Terms\" for i in clinical_Feature_terms]],\n",
    "                                   \"Term\": [*drug_terms, *clinical_Feature_terms]})\n",
    "df_special_terms.to_csv(os.path.join(target_path, f\"{associated_disease}_Special_Terms.csv\"))"
   ],
   "id": "b57e969abc629084",
   "outputs": [
    {
     "name": "stdout",
     "output_type": "stream",
     "text": [
      "Drug Compounds\n",
      "Term_length length: 82267 Term_length mean: 0.656897662489212 Term_length std: 2.362793375292534\n",
      "Term_length length: 82267 Term_length unique mean: 0.2386254512745086 Term_length unique std: 0.6627297072411261\n",
      "Term_length length: 13672 Term_length non zero mean: 3.9526770040959627 Term_length non zero std: 4.534927049327111\n",
      "Term_length length: 13672 Term_length non zero unique mean: 1.4358543007606788 Term_length non zero unique std: 0.9611280515584909\n"
     ]
    },
    {
     "data": {
      "text/plain": [
       "<Figure size 640x480 with 1 Axes>"
      ],
      "image/png": "[encoded data removed]"
     },
     "metadata": {},
     "output_type": "display_data"
    },
    {
     "name": "stdout",
     "output_type": "stream",
     "text": [
      "disease terms\n",
      "Term_length length: 82267 Term_length mean: 3.4080737112086257 Term_length std: 3.830604811303323\n",
      "Term_length length: 82267 Term_length unique mean: 1.529969489588778 Term_length unique std: 1.3332167069521705\n",
      "Term_length length: 67263 Term_length non zero mean: 4.168294604760418 Term_length non zero std: 3.844197661054581\n",
      "Term_length length: 67263 Term_length non zero unique mean: 1.8712516539553692 Term_length non zero unique std: 1.2390851644293388\n"
     ]
    },
    {
     "data": {
      "text/plain": [
       "<Figure size 640x480 with 1 Axes>"
      ],
      "image/png": "[encoded data removed]"
     },
     "metadata": {},
     "output_type": "display_data"
    },
    {
     "data": {
      "text/plain": [
       "<Figure size 640x480 with 0 Axes>"
      ]
     },
     "metadata": {},
     "output_type": "display_data"
    }
   ],
   "execution_count": 12
  },
  {
   "metadata": {},
   "cell_type": "markdown",
   "source": [
    "## TF-IDFs\n",
    "Filter and Sort TF-IDFs as per user specs"
   ],
   "id": "89c03f3e666bff63"
  },
  {
   "metadata": {
    "ExecuteTime": {
     "end_time": "2024-07-12T16:19:43.487114Z",
     "start_time": "2024-07-12T16:19:43.477710Z"
    }
   },
   "cell_type": "code",
   "source": [
    "def sort_tfidf(df_tfidf):\n",
    "    column_list = [*sorted([i for i in df_tfidf.columns if i not in [\"avg\", \"idf\", \"sum\"]]),\n",
    "               \"idf\", \"TF_Corpus\"]\n",
    "    column_list.append(\"TF-IDF\")\n",
    "    df_tfidf = df_tfidf.assign(TF_Corpus=df_tfidf[\"sum\"] / df_tfidf[\"idf\"])\n",
    "    df_tfidf = df_tfidf.rename(columns={\"sum\": \"TF-IDF\"})\n",
    "    df_tfidf = df_tfidf[column_list]\n",
    "    df_tfidf = df_tfidf.sort_values(by=\"TF-IDF\", ascending=False)\n",
    "    return df_tfidf"
   ],
   "id": "b2a5d61130026ae0",
   "outputs": [],
   "execution_count": 17
  },
  {
   "metadata": {
    "ExecuteTime": {
     "end_time": "2024-07-12T16:19:14.849550Z",
     "start_time": "2024-07-12T16:19:14.835038Z"
    }
   },
   "cell_type": "code",
   "source": [
    "disease_terms_to_ignore = {\"diagnosis\", \"prognosis\", \"misdiagnosis\", \"analysis\", \"basis\",\n",
    "                              \"meta-analysis\", \"ontology\", \"doagra\", \"angiogram\", \"hypothesis\", \"program\", \"synthesis\",\n",
    "                              \"poor-prognosis\"}\n",
    "medicalterms_to_ignore_suffix= {\"ase\", \"pathy\", \"thoracic\", \"graphy\", \"pathic\"}\n",
    "medicalterms_to_ignore= [\"april\"]\n",
    "def filter_medical_terms(document_text_list: list, ignore_terms, ignore_term_suffix):\n",
    "\n",
    "    document_text_list = [[term for term in doc if not term in ignore_terms] for doc in document_text_list]\n",
    "    document_text_list = [[term for term in doc\n",
    "                  if not any(i == term[-len(i):] for i in ignore_term_suffix)]\n",
    "                 for doc in document_text_list]\n",
    "    return document_text_list"
   ],
   "id": "6ff6ca6934945b79",
   "outputs": [],
   "execution_count": 15
  },
  {
   "metadata": {
    "ExecuteTime": {
     "end_time": "2024-07-12T16:19:47.517009Z",
     "start_time": "2024-07-12T16:19:47.399556Z"
    }
   },
   "cell_type": "code",
   "source": [
    "df_tfidf_disease = read_pickle(os.path.join(target_path, f\"{query_phrase}_tfidf_1_gram_disease_filterable.pkl\"),\n",
    "                               logger=logger)\n",
    "df_tfidf_disease = df_tfidf_disease[~df_tfidf_disease.index.isin(disease_terms_to_ignore)]\n",
    "df_tfidf_disease = sort_tfidf(df_tfidf=df_tfidf_disease)\n",
    "df_tfidf_disease.to_csv(os.path.join(target_path, f\"{query_phrase}_TF_IDF_Clinical_Features.csv\"))\n",
    "\n",
    "\n",
    "df_tfidf_drugs = read_pickle(os.path.join(target_path, f\"{query_phrase}_tfidf_1_gram_med_filterable.pkl\"),\n",
    "                               logger=logger)\n",
    "terms_to_keep = filter_medical_terms(document_text_list=df_tfidf_drugs.index.tolist(), ignore_terms=medicalterms_to_ignore, ignore_term_suffix=medicalterms_to_ignore_suffix)\n",
    "df_tfidf_drugs = sort_tfidf(df_tfidf=df_tfidf_drugs)\n",
    "df_tfidf_drugs.to_csv(os.path.join(target_path, f\"{query_phrase}_TF_IDF_Drugs.csv\"))"
   ],
   "id": "5afeeb0cbd3c6b54",
   "outputs": [],
   "execution_count": 18
  },
  {
   "metadata": {
    "ExecuteTime": {
     "end_time": "2024-07-12T16:19:50.768404Z",
     "start_time": "2024-07-12T16:19:50.743786Z"
    }
   },
   "cell_type": "code",
   "source": "df_tfidf_drugs.index.tolist()[:25]",
   "id": "cb2f46396a15ca75",
   "outputs": [
    {
     "data": {
      "text/plain": [
       "['riociguat',\n",
       " 'sildenafil',\n",
       " 'guanylate',\n",
       " 'bosentan',\n",
       " 'iloprost',\n",
       " 'rivaroxaban',\n",
       " 'troponin',\n",
       " 'macitentan',\n",
       " 'chemoattractant',\n",
       " 'ambrisentan',\n",
       " 'apixaban',\n",
       " 'tadalafil',\n",
       " 'regurgitant',\n",
       " 'edoxaban',\n",
       " 'dabigatran',\n",
       " 'anticardiolipin',\n",
       " 'p-selectin',\n",
       " 'beraprost',\n",
       " 'fondaparinux',\n",
       " 'acetazolamide',\n",
       " 'guanosine',\n",
       " 'virchow',\n",
       " 'anti-cardiolipin',\n",
       " 'digoxin',\n",
       " 'eculizumab']"
      ]
     },
     "execution_count": 19,
     "metadata": {},
     "output_type": "execute_result"
    }
   ],
   "execution_count": 19
  },
  {
   "metadata": {
    "ExecuteTime": {
     "end_time": "2024-07-12T16:19:52.361008Z",
     "start_time": "2024-07-12T16:19:52.323747Z"
    }
   },
   "cell_type": "code",
   "source": "df_tfidf_disease.index.tolist()[:25]",
   "id": "b84be32fa388bbca",
   "outputs": [
    {
     "data": {
      "text/plain": [
       "['thrombosis',\n",
       " 'dyspnea',\n",
       " 'pathogenesis',\n",
       " 'thrombolysis',\n",
       " 'fibrosis',\n",
       " 'stenosis',\n",
       " 'hypoxemia',\n",
       " 'arteriopathy',\n",
       " 'hemorrhage',\n",
       " 'vasculopathy',\n",
       " 'hemoptysis',\n",
       " 'sarcoma',\n",
       " 'anemia',\n",
       " 'angiogenesis',\n",
       " 'fibrinolysis',\n",
       " 'sclerosis',\n",
       " 'vasculitis',\n",
       " 'microvasculopathy',\n",
       " 'emphasis',\n",
       " 'apnea',\n",
       " 'pathogenic',\n",
       " 'atherosclerosis',\n",
       " 'sarcoidosis',\n",
       " 'cardiomyopathy',\n",
       " 'monocyte']"
      ]
     },
     "execution_count": 20,
     "metadata": {},
     "output_type": "execute_result"
    }
   ],
   "execution_count": 20
  },
  {
   "metadata": {},
   "cell_type": "markdown",
   "source": "## Identify Disease Terms",
   "id": "d158607192c8488"
  },
  {
   "metadata": {
    "ExecuteTime": {
     "end_time": "2024-07-12T16:20:15.333919Z",
     "start_time": "2024-07-12T16:19:57.678523Z"
    }
   },
   "cell_type": "code",
   "source": [
    "# <editor-fold desc=\"Identify Disease Terms\">\n",
    "def identify_possible_diseases(document_text_list: list, terms_of_interest: set, terms_of_uninterest: set, minimum_naming=5):\n",
    "\n",
    "\n",
    "    ngram_list = [[[\" \".join([i for i in ngram]) for ngram in ngrams(sequence=doc, n=n)] for doc in document_text_list] for n in\n",
    "                  [2, 3, 4, 5]]\n",
    "    c_dict = count_dict_three_level(ngram_list)\n",
    "    c_dict = {k: v for k, v in c_dict.items() if v > minimum_naming and any(True if term in k else False for term in terms_of_interest) and not any(True if term in k else False for term in terms_of_uninterest)}\n",
    "    new_dict = {}\n",
    "    for k, v in c_dict.items():\n",
    "\n",
    "        dict_of_duplicates = {key: val for key, val in c_dict.items() if (k in key or key in k) and k != key}\n",
    "        if not any(v < dup_val for dup_val in dict_of_duplicates.values()):\n",
    "            new_dict[k] = v\n",
    "\n",
    "    df_disease_count = pd.DataFrame(data={\"disease name\": new_dict.keys(), \"term count\": new_dict.values()})\n",
    "    return df_disease_count\n",
    "\n",
    "\n",
    "\n",
    "\n",
    "\n",
    "terms_of_interest_top10 = set(df_tfidf_disease.index.tolist()[:10])\n",
    "terms_of_uninterest={\"have\", \"be\", \"use\", \"may\", \"not\", \"diagnosis\", \"prognosis\", \"misdiagnosis\", \"analysis\", \"basis\",\n",
    "                          \"meta-analysis\", \"ontology\", \"doagra\", \"angiogram\", \"hypothesis\", \"program\", \"synthesis\", \"poor-prognosis\"}\n",
    "\n",
    "df_disease_counts_top10 = identify_possible_diseases(df_query[\"clean_text\"].tolist(), terms_of_interest=terms_of_interest_top10,\n",
    "                                                     terms_of_uninterest=terms_of_uninterest)\n",
    "df_disease_counts_top10 = df_disease_counts_top10.sort_values(by=[\"term count\"], ascending=False)\n",
    "\n",
    "df_disease_counts_all = identify_possible_diseases(df_query[\"clean_text\"].tolist(), terms_of_interest=set(df_tfidf_disease.index),\n",
    "                                                     terms_of_uninterest=terms_of_uninterest)\n",
    "df_disease_counts_all = df_disease_counts_all.sort_values(by=[\"term count\"], ascending=False)\n",
    "\n",
    "df_disease_counts_top10.sort_values(by=[\"term count\"], ascending=False).to_csv(os.path.join(target_path, f\"{query_phrase}_Disease_names_counts_top10_clinical_features.csv\"))\n",
    "df_disease_counts_all.sort_values(by=[\"term count\"], ascending=False).to_csv(os.path.join(target_path, f\"{query_phrase}_Disease_names_counts_ALL_clinical_features.csv\"))\n",
    "# </editor-fold>\n"
   ],
   "id": "bc5ac3596011ab",
   "outputs": [],
   "execution_count": 21
  },
  {
   "metadata": {
    "ExecuteTime": {
     "end_time": "2024-07-12T16:20:15.349912Z",
     "start_time": "2024-07-12T16:20:15.336842Z"
    }
   },
   "cell_type": "code",
   "source": "len(df_tfidf_disease.index.tolist())",
   "id": "287aa9b1aa0591cd",
   "outputs": [
    {
     "data": {
      "text/plain": [
       "159"
      ]
     },
     "execution_count": 22,
     "metadata": {},
     "output_type": "execute_result"
    }
   ],
   "execution_count": 22
  },
  {
   "metadata": {
    "ExecuteTime": {
     "end_time": "2024-07-12T16:38:01.898212Z",
     "start_time": "2024-07-12T16:38:01.873010Z"
    }
   },
   "cell_type": "code",
   "source": "df_disease_counts_all[\"disease name\"].tolist()[:20]",
   "id": "93f2f75cfa2533f9",
   "outputs": [
    {
     "data": {
      "text/plain": [
       "['vein thrombosis',\n",
       " 'venous thrombosis',\n",
       " 'thrombosis pulmonary',\n",
       " 'pulmonary artery sarcoma',\n",
       " 'artery sarcoma',\n",
       " 'sleep apnea',\n",
       " 'nocturnal hypoxemia',\n",
       " 'exertional dyspnea',\n",
       " 'pulmonary hemorrhage',\n",
       " 'pulmonary arteriopathy',\n",
       " 'intimal sarcoma',\n",
       " 'systemic sclerosis',\n",
       " 'catheter-directed thrombolysis',\n",
       " 'pathogenesis CTEPH',\n",
       " 'pulmonary fibrosis',\n",
       " 'systemic thrombolysis',\n",
       " 'fibrosing mediastinitis',\n",
       " 'takayasu arteritis',\n",
       " 'persistent dyspnea',\n",
       " 'pulmonary vasculitis']"
      ]
     },
     "execution_count": 29,
     "metadata": {},
     "output_type": "execute_result"
    }
   ],
   "execution_count": 29
  },
  {
   "metadata": {},
   "cell_type": "markdown",
   "source": "## Annotation of Predicted indirect Terms",
   "id": "5f5357885e224c82"
  },
  {
   "metadata": {
    "ExecuteTime": {
     "end_time": "2024-07-12T16:20:16.301252Z",
     "start_time": "2024-07-12T16:20:16.272295Z"
    }
   },
   "cell_type": "code",
   "source": [
    "keyed_vector = read_pickle(os.path.join(target_path, \"joined_skip-gram_model_CTEPH_VT_w2v_2024_drugs_only.kv\"), logger=logger)\n",
    "base_term = \"CTEPH\"\n",
    "top_prediction_terms = len(keyed_vector.index2entity)\n",
    "most_similar_terms = keyed_vector.most_similar(positive=[base_term], topn=top_prediction_terms)\n",
    "df_most_similar_terms = pd.DataFrame(data={\"drug compound\": [i[0] for i in most_similar_terms],\n",
    "                                              \"cosine_similarity\": [i[1] for i in most_similar_terms]})\n",
    "known_drugs_terms = set(df_tfidf_drugs.index)"
   ],
   "id": "bd22e3fa412cfe23",
   "outputs": [],
   "execution_count": 23
  },
  {
   "metadata": {
    "ExecuteTime": {
     "end_time": "2024-07-12T16:20:19.296878Z",
     "start_time": "2024-07-12T16:20:19.241926Z"
    }
   },
   "cell_type": "code",
   "source": [
    "anti_thrombotic_drugs = {# from previously compiled list\n",
    "                                   \"caplacizumab\", \"benzarone\", \"enalaprilat\", \"trental\", \"mechlorethamine\", \"androgel\",\n",
    "                                  # https://www.drugs.com/drug-class/thrombolytics.html#\n",
    "                                  \"streptodornase\", \"vorapaxar\", \"abciximab\", \"eptifibatide\", \"tirofiban\", \"streptokinase\",\n",
    "                                  \"alteplase\", \"tenecteplase\", \"reteplase\", \"urokinase\", \"streptase\", \"kinlytic\", #\"abbokinase\",\n",
    "                                   # https://www.drugs.com/drug-class/thrombin-inhibitors.html\n",
    "                                  \"dabigatran\", \"bivalirudin\", \"desirudin\",\n",
    "                                   # https://www.drugs.com/drug-class/heparins.html\n",
    "                                   \"enoxaparin\", \"delteparin\", \"tinzaparin\", \" danaparoid\",\n",
    "                                   # https://www.drugs.com/drug-class/factor-xa-inhibitors.html\n",
    "                                   \"apixaban\", \"fondaparinux\", \"rivaroxaban\", \"edoxaban\", \"betrixaban\",\n",
    "                                   # https://www.drugs.com/drug-class/coumarins-and-indandiones.html\n",
    "                                   \"warfarin\",\n",
    "                                   # https://www.drugs.com/drug-class/antiplatelet-agents.html\n",
    "                                 \"aspirin\", \"cangrelor\", \"cilostazol\", \"clopidogrel\", \"dipyridamole\", \"prasugrel\", \"ticlopidine\", \"ticagrelo\"}\n",
    "pro_thrombotic_drugs = {# from a compiled list\n",
    "                                   \"carfilzomib\", \"etanercept\",  \"olmesartan\", \"olanzapine\", \"ponatinib\", \"levaminsol\",\n",
    "                                 # https://link.springer.com/article/10.1007/s40264-013-0054-6/tables/1\n",
    "                                   \"ciclosporin\", \"5-FU\", \"bleomycin\", \"busulfan\", \"cis-platinum\", \"doxorubicin\",\n",
    "                                   \"gemtuzumab\", \"asparainase\", \"l-asparainase\", \"mitomycin\", \"paclitaxel\", \"tamoxifen\",\n",
    "                                   \"thalidomide\", \"bevacizumab\", \"rofecoxib\", \"ephedra\", \"erythropoietin\", \"heparin\",\n",
    "                                   \"ciclosporin\", \"glucocoricoids\", \"dexamethasone\", \"sirolimus\", \"interferon\", \"interferon-alpha\",\n",
    "                                   \"metformin\", \"quinine\", \"escitalopram\", \"sildenafil\", \"ticlopidin\", \"clopidogrel\", \"tranexamic\"\n",
    "}\n",
    "\n",
    "\n",
    "not_a_drug = {\"arteriomegaly\", \"calciphylaxis\", \"troponin-i\", \"arterially\", \"sP-selectin\", \"virginia\", \"calpastatin\"\n",
    "              \"predilution\", \"intra-cardiac\", \"arteriolosclerotic\", \"arteriopathy\", \"rac\", \"prediabetes\", \"arteriographically\",\n",
    "              \"deiminase\", \"bitistatin\", \"metavir\", \"cyclase\", \"elastase\", \"nonstatin\",\"arteriopathic\", \"virologic\",\n",
    "              \"algerian\", \"gly197\", \"arterioarterial\",\"femoro-iliac\", \"serpine\", \"pre-menopausal\", \"alpha-galactosidase\",\n",
    "              \"somali\", \"transthoracic\", \"gadofosveset-enhanced\", \"calprotectin\", \"coeliac\", \"belfast\", \"on-oac\",\n",
    "              \"non-edoxaban\", \"philippine\", \"somalia\",  'biermer', 'gondar', 'BRAF-mutant',  'bulgarian', 'glioblastoma-related', 'hungarian',\n",
    "              'prediagnosis',  'iowa', 'extracardiac','predesigned', 'ultrafast', 'jordan', 'faisal', 'guangzhou', 'nonhemophiliac',\n",
    "\n",
    "\n",
    "\n",
    "}\n",
    "\n",
    "\n",
    "other_drugs = {\"ruxolitinib\": \"fibrosis\", \"fasudil\": \"hemorrhage\",\n",
    "               \"imatinib\": \"cancer\", \"filgotinib\": \"artritis\",\n",
    "               \"gatifloxacin\": \"anti_bacterial\", \"ixekizumab\": \"auto_immune\",\n",
    "               \"ranibizumab\":\"retinal vein occlusion\", \"diltiazem\": \"angia\",\n",
    "               \"aflibercept\": \"retinal vein occlusion\", \"sorafenib\": \"cancer\",\n",
    "               \"dydrogesterone\": \"menstrual cycle\", \"lasofoxifene\": \"osteoporosis\", \"tolvaptan\": \"hyponatremia\",\n",
    "               'alpelisib': \"NA\", 'sofosbuvir': \"NA\", 'lasofoxifene': \"NA\", 'neopterin': \"NA\", 'AngioVac': \"NA\", \n",
    "               'rifamycins': \"NA\", 'phloretin': \"NA\", '99mTc-apcitide': \"NA\", 'alirocumab': \"NA\",'selectin': \"NA\",\n",
    "               'omalizumab': \"NA\", 'diltiazem': \"NA\", 'lectin': \"NA\", 'aviptadil': \"NA\", 'dupilumab': \"NA\", 'romidepsin': \"NA\",\n",
    "               'vaspin': \"NA\",'beta-sitosterol': \"NA\"\n",
    "               }\n",
    "\n",
    "\n",
    "\n"
   ],
   "id": "4b2b09346043c2d8",
   "outputs": [],
   "execution_count": 24
  },
  {
   "metadata": {
    "ExecuteTime": {
     "end_time": "2024-07-12T16:20:24.217995Z",
     "start_time": "2024-07-12T16:20:24.046415Z"
    }
   },
   "cell_type": "code",
   "source": [
    "df_most_similar_terms = df_most_similar_terms.assign(**{\"Direct Association\":\n",
    "                                                            df_most_similar_terms.apply(lambda x: x[\"drug compound\"]\n",
    "                                                                                                  in known_drugs_terms, axis=1),\n",
    "                                                        \"Anti-thrombotic drugs\":\n",
    "                                                            df_most_similar_terms.apply(lambda x: x[\"drug compound\"]\n",
    "                                                                                                  in anti_thrombotic_drugs, axis=1),\n",
    "                                                        \"Pro-thrombotic drugs\":\n",
    "                                                            df_most_similar_terms.apply(lambda x: x[\"drug compound\"]\n",
    "                                                                                                  in pro_thrombotic_drugs, axis=1),\n",
    "                                                        \"Not a drug\":\n",
    "                                                            df_most_similar_terms.apply(lambda x: x[\"drug compound\"]\n",
    "                                                                                                  in not_a_drug, axis=1),\n",
    "                                                        \"Other drugs\":\n",
    "                                                            df_most_similar_terms.apply(lambda x: other_drugs.get(x[\"drug compound\"], \"\"),\n",
    "                                                                                        axis=1),\n",
    "                                                        \"Other drugs Hit\":\n",
    "                                                            df_most_similar_terms.apply(lambda x: x[\"drug compound\"] in other_drugs.keys(),\n",
    "                                                                                        axis=1)\n",
    "                                                        })\n",
    "\n",
    "df_most_similar_terms[~((df_most_similar_terms[\"Direct Association\"]) |\n",
    "                        (df_most_similar_terms[\"Anti-thrombotic drugs\"]) |\n",
    "                        (df_most_similar_terms[\"Pro-thrombotic drugs\"]) |\n",
    "                        (df_most_similar_terms[\"Not a drug\"]) |\n",
    "                        (df_most_similar_terms[\"Other drugs\"]))][\"drug compound\"].tolist()\n",
    "\n",
    "df_most_similar_terms.to_csv(os.path.join(target_path, \"CTEPH_VT_Predicted_Drugs_in_Embedding_Layer_with_Similarity_Annotated_Skip-gram_Model.csv\"))\n",
    "df_annotation = pd.DataFrame(data={\"Thrombotic_Effect\": [*[\"Anti-thrombotic\" for i in anti_thrombotic_drugs],\n",
    "                                                         *[\"Pro-thrombotic\" for i in pro_thrombotic_drugs]],\n",
    "                                   \"Drug Compound\": [*anti_thrombotic_drugs, *pro_thrombotic_drugs]})\n",
    "df_annotation.to_csv(os.path.join(target_path, \"Thrombotic_Annotation.csv\"))\n",
    "# </editor-fold>"
   ],
   "id": "2377e5ef68526c97",
   "outputs": [],
   "execution_count": 25
  },
  {
   "metadata": {
    "ExecuteTime": {
     "end_time": "2024-07-12T16:20:26.597611Z",
     "start_time": "2024-07-12T16:20:26.469250Z"
    }
   },
   "cell_type": "code",
   "source": "len(set(df_most_similar_terms[~df_most_similar_terms.apply(lambda x:any([x[i] for i in [\"Direct Association\", \"Anti-thrombotic drugs\", \"Pro-thrombotic drugs\", \"Not a drug\"]]), axis=1)][\"drug compound\"].tolist())) # Not labeled!",
   "id": "22954ecec2260d7a",
   "outputs": [
    {
     "data": {
      "text/plain": [
       "609"
      ]
     },
     "execution_count": 26,
     "metadata": {},
     "output_type": "execute_result"
    }
   ],
   "execution_count": 26
  },
  {
   "metadata": {
    "ExecuteTime": {
     "end_time": "2024-07-12T16:20:28.577905Z",
     "start_time": "2024-07-12T16:20:28.200839Z"
    }
   },
   "cell_type": "code",
   "source": [
    "print(\"Total Drug Compounds in dataset: \", df_most_similar_terms.shape[0])\n",
    "print(\"Not Labeled:\", df_most_similar_terms[~df_most_similar_terms.apply(lambda x:any([x[i] for i in [\"Direct Association\", \"Anti-thrombotic drugs\", \"Pro-thrombotic drugs\", \"Other drugs Hit\", \"Not a drug\"]]), axis=1)].shape[0]) # Not labeled!\n",
    "\n",
    "for i in [\"Direct Association\", \"Anti-thrombotic drugs\", \"Pro-thrombotic drugs\",  \"Other drugs Hit\", \"Not a drug\"]:\n",
    "    print(i, \"Number of Hits:\", df_most_similar_terms[df_most_similar_terms[i]].shape[0])\n",
    "    \n",
    "for i in [[\"Direct Association\", \"Anti-thrombotic drugs\"], \n",
    "          [\"Direct Association\", \"Pro-thrombotic drugs\"], \n",
    "          # [\"Direct Association\",\"Other drugs Hit\"] # have not been labeled!\n",
    "          ]:\n",
    "    print(i, \"Number of Hits:\", df_most_similar_terms[df_most_similar_terms.apply(lambda x:all([x[j] for j in i]), axis=1)].shape[0])"
   ],
   "id": "b7670f8e0b11ae6",
   "outputs": [
    {
     "name": "stdout",
     "output_type": "stream",
     "text": [
      "Total Drug Compounds in dataset:  722\n",
      "Not Labeled: 580\n",
      "Direct Association Number of Hits: 49\n",
      "Anti-thrombotic drugs Number of Hits: 17\n",
      "Pro-thrombotic drugs Number of Hits: 15\n",
      "Other drugs Hit Number of Hits: 29\n",
      "Not a drug Number of Hits: 42\n",
      "['Direct Association', 'Anti-thrombotic drugs'] Number of Hits: 8\n",
      "['Direct Association', 'Pro-thrombotic drugs'] Number of Hits: 2\n"
     ]
    }
   ],
   "execution_count": 27
  },
  {
   "metadata": {
    "ExecuteTime": {
     "end_time": "2024-07-12T16:55:26.940639Z",
     "start_time": "2024-07-12T16:55:26.916099Z"
    }
   },
   "cell_type": "code",
   "source": [
    "df_specific_term_validation_CBOW = read_pickle(os.path.join(target_path, \"specific_term_validation_CBOW_CTEPH_venous thrombosis.pkl\"), logger=logger)\n",
    "df_specific_term_validation_CBOW.to_csv(os.path.join(target_path, \"specific_term_validation_CBOW_CTEPH_VT.csv\"))"
   ],
   "id": "c046c1f0a9010450",
   "outputs": [],
   "execution_count": 33
  },
  {
   "metadata": {
    "ExecuteTime": {
     "end_time": "2024-07-12T16:56:16.799882Z",
     "start_time": "2024-07-12T16:56:16.783885Z"
    }
   },
   "cell_type": "code",
   "source": [
    "df_specific_term_validation_skip_gram = read_pickle(os.path.join(target_path, \"specific_term_validation_skip-gram_CTEPH_venous thrombosis.pkl\"), logger=logger)\n",
    "df_specific_term_validation_skip_gram.to_csv(os.path.join(target_path, \"specific_term_validation_skip-gram_CTEPH_VT.csv\"))"
   ],
   "id": "bbc30024f8fb68a3",
   "outputs": [],
   "execution_count": 35
  },
  {
   "metadata": {
    "ExecuteTime": {
     "end_time": "2024-07-12T16:56:22.224889Z",
     "start_time": "2024-07-12T16:56:22.177300Z"
    }
   },
   "cell_type": "code",
   "source": "df_specific_term_validation_skip_gram",
   "id": "c4e0a3ed7301008d",
   "outputs": [
    {
     "data": {
      "text/plain": [
       "                  year base_term   query_term  similarity  co_occurrence\n",
       "0                 2024     CTEPH    riociguat    0.557160              6\n",
       "1    before_prediction     CTEPH    riociguat         NaN            136\n",
       "2                 2024     CTEPH     bosentan    0.424565              1\n",
       "3    before_prediction     CTEPH     bosentan         NaN             32\n",
       "4                 2024     CTEPH   sildenafil    0.363306              1\n",
       "..                 ...       ...          ...         ...            ...\n",
       "120  before_prediction     CTEPH   sildenafil         NaN             20\n",
       "121               2024     CTEPH  clopidogrel    0.163679              0\n",
       "122  before_prediction     CTEPH  clopidogrel         NaN              0\n",
       "123               2024     CTEPH   tranexamic    0.065753              0\n",
       "124  before_prediction     CTEPH   tranexamic         NaN              3\n",
       "\n",
       "[125 rows x 5 columns]"
      ],
      "text/html": [
       "<div>\n",
       "<style scoped>\n",
       "    .dataframe tbody tr th:only-of-type {\n",
       "        vertical-align: middle;\n",
       "    }\n",
       "\n",
       "    .dataframe tbody tr th {\n",
       "        vertical-align: top;\n",
       "    }\n",
       "\n",
       "    .dataframe thead th {\n",
       "        text-align: right;\n",
       "    }\n",
       "</style>\n",
       "<table border=\"1\" class=\"dataframe\">\n",
       "  <thead>\n",
       "    <tr style=\"text-align: right;\">\n",
       "      <th></th>\n",
       "      <th>year</th>\n",
       "      <th>base_term</th>\n",
       "      <th>query_term</th>\n",
       "      <th>similarity</th>\n",
       "      <th>co_occurrence</th>\n",
       "    </tr>\n",
       "  </thead>\n",
       "  <tbody>\n",
       "    <tr>\n",
       "      <th>0</th>\n",
       "      <td>2024</td>\n",
       "      <td>CTEPH</td>\n",
       "      <td>riociguat</td>\n",
       "      <td>0.557160</td>\n",
       "      <td>6</td>\n",
       "    </tr>\n",
       "    <tr>\n",
       "      <th>1</th>\n",
       "      <td>before_prediction</td>\n",
       "      <td>CTEPH</td>\n",
       "      <td>riociguat</td>\n",
       "      <td>NaN</td>\n",
       "      <td>136</td>\n",
       "    </tr>\n",
       "    <tr>\n",
       "      <th>2</th>\n",
       "      <td>2024</td>\n",
       "      <td>CTEPH</td>\n",
       "      <td>bosentan</td>\n",
       "      <td>0.424565</td>\n",
       "      <td>1</td>\n",
       "    </tr>\n",
       "    <tr>\n",
       "      <th>3</th>\n",
       "      <td>before_prediction</td>\n",
       "      <td>CTEPH</td>\n",
       "      <td>bosentan</td>\n",
       "      <td>NaN</td>\n",
       "      <td>32</td>\n",
       "    </tr>\n",
       "    <tr>\n",
       "      <th>4</th>\n",
       "      <td>2024</td>\n",
       "      <td>CTEPH</td>\n",
       "      <td>sildenafil</td>\n",
       "      <td>0.363306</td>\n",
       "      <td>1</td>\n",
       "    </tr>\n",
       "    <tr>\n",
       "      <th>...</th>\n",
       "      <td>...</td>\n",
       "      <td>...</td>\n",
       "      <td>...</td>\n",
       "      <td>...</td>\n",
       "      <td>...</td>\n",
       "    </tr>\n",
       "    <tr>\n",
       "      <th>120</th>\n",
       "      <td>before_prediction</td>\n",
       "      <td>CTEPH</td>\n",
       "      <td>sildenafil</td>\n",
       "      <td>NaN</td>\n",
       "      <td>20</td>\n",
       "    </tr>\n",
       "    <tr>\n",
       "      <th>121</th>\n",
       "      <td>2024</td>\n",
       "      <td>CTEPH</td>\n",
       "      <td>clopidogrel</td>\n",
       "      <td>0.163679</td>\n",
       "      <td>0</td>\n",
       "    </tr>\n",
       "    <tr>\n",
       "      <th>122</th>\n",
       "      <td>before_prediction</td>\n",
       "      <td>CTEPH</td>\n",
       "      <td>clopidogrel</td>\n",
       "      <td>NaN</td>\n",
       "      <td>0</td>\n",
       "    </tr>\n",
       "    <tr>\n",
       "      <th>123</th>\n",
       "      <td>2024</td>\n",
       "      <td>CTEPH</td>\n",
       "      <td>tranexamic</td>\n",
       "      <td>0.065753</td>\n",
       "      <td>0</td>\n",
       "    </tr>\n",
       "    <tr>\n",
       "      <th>124</th>\n",
       "      <td>before_prediction</td>\n",
       "      <td>CTEPH</td>\n",
       "      <td>tranexamic</td>\n",
       "      <td>NaN</td>\n",
       "      <td>3</td>\n",
       "    </tr>\n",
       "  </tbody>\n",
       "</table>\n",
       "<p>125 rows × 5 columns</p>\n",
       "</div>"
      ]
     },
     "execution_count": 36,
     "metadata": {},
     "output_type": "execute_result"
    }
   ],
   "execution_count": 36
  }
 ],
 "metadata": {
  "kernelspec": {
   "display_name": "Python 3",
   "language": "python",
   "name": "python3"
  },
  "language_info": {
   "codemirror_mode": {
    "name": "ipython",
    "version": 2
   },
   "file_extension": ".py",
   "mimetype": "text/x-python",
   "name": "python",
   "nbconvert_exporter": "python",
   "pygments_lexer": "ipython2",
   "version": "2.7.6"
  }
 },
 "nbformat": 4,
 "nbformat_minor": 5
}
